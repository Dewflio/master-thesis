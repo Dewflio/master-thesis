{
 "cells": [
  {
   "cell_type": "markdown",
   "id": "c9423399",
   "metadata": {},
   "source": [
    "### Imports"
   ]
  },
  {
   "cell_type": "code",
   "execution_count": null,
   "id": "e3f10ad1",
   "metadata": {},
   "outputs": [],
   "source": [
    "import chipwhisperer as cw\n",
    "import matplotlib.pyplot as plt\n",
    "import numpy as np\n",
    "import time\n",
    "import struct\n",
    "import random\n",
    "\n",
    "from scipy.signal import find_peaks"
   ]
  },
  {
   "cell_type": "code",
   "execution_count": null,
   "id": "1e5b311d",
   "metadata": {},
   "outputs": [],
   "source": [
    "project_folder = \"cw_projects/\"\n",
    "project_name = \"new_inputs_protected\"\n",
    "num_traces = 10000\n",
    "scmd_value = 1 #0 for unprotected and 1 for protected"
   ]
  },
  {
   "cell_type": "code",
   "execution_count": null,
   "id": "56ddd61f",
   "metadata": {},
   "outputs": [],
   "source": [
    "# project_name = \"unprotected\"\n",
    "# num_traces = 2000\n",
    "# scmd_value = 0 #0 for unprotected and 1 for protected"
   ]
  },
  {
   "cell_type": "code",
   "execution_count": null,
   "id": "37301123-988b-49e7-9277-82bad8ca69e3",
   "metadata": {},
   "outputs": [],
   "source": [
    "min_in_val = -2\n",
    "max_in_val = 2\n",
    "decimate_value = 1\n",
    "filename = project_name + \"-trace.txt\""
   ]
  },
  {
   "cell_type": "markdown",
   "id": "d76aa78b",
   "metadata": {},
   "source": [
    "### Function Definitions"
   ]
  },
  {
   "cell_type": "code",
   "execution_count": null,
   "id": "09958b5f",
   "metadata": {},
   "outputs": [],
   "source": [
    "def random_float(min_val, max_val):\n",
    "    # Generate a random float between min_val and max_val\n",
    "    rand_float = random.uniform(min_val, max_val)\n",
    "    # Round to 2 decimal places\n",
    "    return round(rand_float, 2)"
   ]
  },
  {
   "cell_type": "code",
   "execution_count": null,
   "id": "c631e85a",
   "metadata": {},
   "outputs": [],
   "source": [
    "def float_to_bytearray_32bit_little_edian(f):\n",
    "    # Pack the float as a 32-bit (4-byte) IEEE 754 floating point number\n",
    "    packed = struct.pack('f', f)\n",
    "    # Convert to bytearray\n",
    "    return bytearray(packed)"
   ]
  },
  {
   "cell_type": "code",
   "execution_count": null,
   "id": "237e36fa",
   "metadata": {},
   "outputs": [],
   "source": [
    "def scope_setup(samples=24431, decimate=2):\n",
    "    # arm the scope\n",
    "    scope.arm()\n",
    "    \n",
    "    # Set the maximum number of points in a trace\n",
    "    scope.adc.fifo_fill_mode = \"normal\"\n",
    "    scope.adc.samples = samples\n",
    "    scope.adc.decimate = decimate"
   ]
  },
  {
   "cell_type": "code",
   "execution_count": null,
   "id": "b354493b",
   "metadata": {},
   "outputs": [],
   "source": [
    "def capture_trace(cmd_data, cmd='p', scmd=scmd_value, prints=True):\n",
    "    scope.arm()\n",
    "    # flush the UART buffer\n",
    "    target.flush()\n",
    "    \n",
    "    target.send_cmd(cmd, scmd, cmd_data)\n",
    "    ret = scope.capture()\n",
    "    trace = scope.get_last_trace()\n",
    "    \n",
    "    returned_data = target.read_cmd('r')\n",
    "    ack = target.read_cmd('e')\n",
    "    if prints:\n",
    "        print(f'r\\t- target.read_cmd(\"r\"):\\t{returned_data}')\n",
    "        print(f'ack\\t- target.read_cmd(\"e\"):\\t{ack}')\n",
    "    return trace\n",
    "    "
   ]
  },
  {
   "cell_type": "markdown",
   "id": "9d6305e4",
   "metadata": {},
   "source": [
    "### Target Setup"
   ]
  },
  {
   "cell_type": "code",
   "execution_count": null,
   "id": "7240f8d8",
   "metadata": {},
   "outputs": [],
   "source": [
    "#Scope setup\n",
    "scope = cw.scope()\n",
    "scope.default_setup()\n",
    "\n",
    "target = cw.target(scope, cw.targets.SimpleSerial2) #cw.targets.SimpleSerial can be omitted\n",
    "#MY CHANGES - changed target to SimpleSerial2 - to be able to send_cmd"
   ]
  },
  {
   "cell_type": "code",
   "execution_count": null,
   "id": "22f585db",
   "metadata": {},
   "outputs": [],
   "source": [
    "scope_setup(samples=24430, decimate=decimate_value)"
   ]
  },
  {
   "cell_type": "code",
   "execution_count": null,
   "id": "de313acd",
   "metadata": {},
   "outputs": [],
   "source": [
    "%%bash\n",
    "cd version_02/\n",
    "make PLATFORM='CWLITEARM' CRYPTO_TARGET=NONE"
   ]
  },
  {
   "cell_type": "code",
   "execution_count": null,
   "id": "8bc64fac",
   "metadata": {},
   "outputs": [],
   "source": [
    "cw.program_target(scope, cw.programmers.STM32FProgrammer, \"version_02/simpleserial-target-CWLITEARM.hex\")"
   ]
  },
  {
   "cell_type": "markdown",
   "id": "866c455f",
   "metadata": {},
   "source": [
    "### Initialize the project\n",
    "\n",
    "The Chipwhisperer `Project` class can be used to keep a collection of traces. "
   ]
  },
  {
   "cell_type": "code",
   "execution_count": null,
   "id": "cc267ea6",
   "metadata": {},
   "outputs": [],
   "source": [
    "proj = cw.create_project(project_folder + project_name)"
   ]
  },
  {
   "cell_type": "code",
   "execution_count": null,
   "id": "9d6512e2",
   "metadata": {},
   "outputs": [],
   "source": [
    "input_vals = []\n",
    "\n",
    "for i in range(num_traces):\n",
    "    input_vals.append(random.uniform(min_in_val, max_in_val))\n",
    "\n",
    "print(max(input_vals))\n",
    "print(min(input_vals))\n",
    "print(len(input_vals))"
   ]
  },
  {
   "cell_type": "markdown",
   "id": "62d59e74-e476-4921-9fd3-2009eab63da5",
   "metadata": {},
   "source": [
    "### Trace collection"
   ]
  },
  {
   "cell_type": "code",
   "execution_count": null,
   "id": "d848b07c",
   "metadata": {
    "scrolled": true
   },
   "outputs": [],
   "source": [
    "start = time.time()\n",
    "completed_counter = 0\n",
    "\n",
    "# 50 dummy executions\n",
    "float_val = -0.657\n",
    "float_bytearray = float_to_bytearray_32bit_little_edian(float_val)\n",
    "data = bytearray([0x42] * 4)\n",
    "for i in range(50):\n",
    "    trace_wave = capture_trace(float_bytearray, scmd=scmd_value)\n",
    "print(\"warm up done\")\n",
    "\n",
    "# real executions\n",
    "start = time.time()\n",
    "completed_counter = 0\n",
    "for i in range(num_traces):\n",
    "    cmd_data = float_to_bytearray_32bit_little_edian(input_vals[i])\n",
    "    \n",
    "    trace_wave = capture_trace(cmd_data=cmd_data, scmd=scmd_value, prints=False)\n",
    "    trace = cw.Trace(wave=trace_wave, textin=input_vals[i], textout=None, key=None)\n",
    "    proj.traces.append(trace)\n",
    "    \n",
    "    completed_counter += 1\n",
    "    if completed_counter % 100 == 0: \n",
    "        print(f'completed {completed_counter} traces in\\t{time.time() - start} seconds' )\n",
    "\n",
    "end = time.time()\n",
    "print(f'capturing traces finished in {end - start} seconds!')"
   ]
  },
  {
   "cell_type": "code",
   "execution_count": null,
   "id": "0937b8d3",
   "metadata": {},
   "outputs": [],
   "source": [
    "# proj.save()\n",
    "proj.close()"
   ]
  },
  {
   "cell_type": "markdown",
   "id": "44525487-e57e-4a6c-9537-6f26cd4d3ef7",
   "metadata": {},
   "source": [
    "### Plot trace"
   ]
  },
  {
   "cell_type": "code",
   "execution_count": null,
   "id": "8e18d4ea",
   "metadata": {},
   "outputs": [],
   "source": [
    "proj = cw.open_project(project_folder + project_name)"
   ]
  },
  {
   "cell_type": "code",
   "execution_count": null,
   "id": "45c64310",
   "metadata": {},
   "outputs": [],
   "source": [
    "print(len(proj.traces))"
   ]
  },
  {
   "cell_type": "code",
   "execution_count": null,
   "id": "4ae9abaf",
   "metadata": {},
   "outputs": [],
   "source": [
    "trace_waves_arr = []\n",
    "for trace in proj.traces:\n",
    "    trace_waves_arr.append(trace.wave)"
   ]
  },
  {
   "cell_type": "code",
   "execution_count": null,
   "id": "0ae75651",
   "metadata": {},
   "outputs": [],
   "source": [
    "def disconnect_DUT():\n",
    "    scope.dis()\n",
    "    target.dis()\n",
    "    return\n",
    "disconnect_DUT()"
   ]
  },
  {
   "cell_type": "markdown",
   "id": "e1cd511b",
   "metadata": {},
   "source": [
    "### Save traces as txt files"
   ]
  },
  {
   "cell_type": "code",
   "execution_count": null,
   "id": "53620e70-109c-47cc-8587-01d7406217c4",
   "metadata": {},
   "outputs": [],
   "source": [
    "proj = cw.open_project(project_folder + project_name)"
   ]
  },
  {
   "cell_type": "code",
   "execution_count": null,
   "id": "b9fd5070",
   "metadata": {},
   "outputs": [],
   "source": [
    "trace_waves_arr = []\n",
    "inputs_arr = []\n",
    "for trace in proj.traces:\n",
    "    trace_waves_arr.append(trace.wave)\n",
    "    inputs_arr.append(trace.textin)\n",
    "\n",
    "trace_waves_arr = np.array(trace_waves_arr)\n",
    "print(len(trace_waves_arr))\n",
    "print(len(inputs_arr))"
   ]
  },
  {
   "cell_type": "code",
   "execution_count": null,
   "id": "293cb50c",
   "metadata": {},
   "outputs": [],
   "source": [
    "import os\n",
    "\n",
    "def save_files(folder, array, input_file, input_array):\n",
    "    isExist = os.path.exists(folder)\n",
    "    if not isExist:\n",
    "        os.makedirs(folder)\n",
    "    no_of_traces = len(input_array)\n",
    "    for n in range(no_of_traces):\n",
    "        with open(folder + \"/trace_\"+str(n)+\".txt\",\"w+\") as file:\n",
    "            for record in array[n]:\n",
    "                file.write(str(record)+\"\\n\")\n",
    "        if n % 100 == 0:\n",
    "            print(f'Converted {n} traces')\n",
    "        file.close()\n",
    "    \n",
    "    with open(folder + \"/\" + input_file,\"w+\") as file:\n",
    "        for i in range(no_of_traces):\n",
    "            file.write(str(input_array[i])+\"\\n\")\n",
    "        file.close()\n",
    "    return"
   ]
  },
  {
   "cell_type": "code",
   "execution_count": null,
   "id": "8849255a-0eeb-43dd-ba94-d6f4c7be3a10",
   "metadata": {},
   "outputs": [],
   "source": [
    "print(len(trace_waves_arr[0]))"
   ]
  },
  {
   "cell_type": "code",
   "execution_count": null,
   "id": "09339b5c",
   "metadata": {},
   "outputs": [],
   "source": [
    "save_files(\"txt_traces/\" + project_name, trace_waves_arr, \"inputs.txt\", inputs_arr)"
   ]
  },
  {
   "cell_type": "markdown",
   "id": "a6bc960c-16eb-4649-a914-12746b3f4a66",
   "metadata": {},
   "source": [
    "### Zip files"
   ]
  },
  {
   "cell_type": "code",
   "execution_count": null,
   "id": "9e1c8cdb",
   "metadata": {},
   "outputs": [],
   "source": [
    "import shutil\n",
    "shutil.make_archive(project_name, 'zip', project_name)\n",
    "# shutil.make_archive(output_filename_dont_add_.zip, 'zip', directory_to_download)"
   ]
  }
 ],
 "metadata": {
  "kernelspec": {
   "display_name": "Python 3 (ipykernel)",
   "language": "python",
   "name": "python3"
  },
  "language_info": {
   "codemirror_mode": {
    "name": "ipython",
    "version": 3
   },
   "file_extension": ".py",
   "mimetype": "text/x-python",
   "name": "python",
   "nbconvert_exporter": "python",
   "pygments_lexer": "ipython3",
   "version": "3.10.8"
  }
 },
 "nbformat": 4,
 "nbformat_minor": 5
}

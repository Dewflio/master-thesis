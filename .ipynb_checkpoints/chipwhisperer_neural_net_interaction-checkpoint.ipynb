{
 "cells": [
  {
   "cell_type": "markdown",
   "id": "89777fa5",
   "metadata": {},
   "source": [
    "### Import chipwhisperer and set the scope\n",
    "\n",
    "The scope can be left as is, because we have only one device connected. In cases where there are multiple divices connected we can use `scope(sn=DEVICE_SERIAL_NUMBER)` to create scope for a specific device. "
   ]
  },
  {
   "cell_type": "code",
   "execution_count": 3,
   "id": "aacad4d7",
   "metadata": {},
   "outputs": [],
   "source": [
    "import chipwhisperer as cw"
   ]
  },
  {
   "cell_type": "code",
   "execution_count": 4,
   "id": "8fbff552",
   "metadata": {},
   "outputs": [],
   "source": [
    "scope = cw.scope()"
   ]
  },
  {
   "cell_type": "markdown",
   "id": "24d85fcb",
   "metadata": {},
   "source": [
    "Note to self:\n",
    "When the scope is created, the device's green LED light starts blinking (on top of the blue LED that probably indicates that the device is connected physically).\n",
    "\n",
    "We also set the scope to a default setup which means:\n",
    "\n",
    "- Sets the scope gain to 45dB\n",
    "- Sets the scope to capture 5000 samples\n",
    "- Sets the scope offset to 0 (aka it will begin capturing as soon as it is triggered)\n",
    "- Sets the scope trigger to rising edge\n",
    "- Outputs a 7.37MHz clock to the target on HS2\n",
    "- Clocks the scope ADC at 4*7.37MHz. Note that this is synchronous to the target clock on HS2\n",
    "- Assigns GPIO1 as serial RX\n",
    "- Assigns GPIO2 as serial TX"
   ]
  },
  {
   "cell_type": "code",
   "execution_count": 5,
   "id": "efeb8b6d",
   "metadata": {},
   "outputs": [],
   "source": [
    "scope.default_setup()"
   ]
  },
  {
   "cell_type": "markdown",
   "id": "92cb1294",
   "metadata": {},
   "source": [
    "### Connecting to target\n",
    "\n",
    "Now we can connect to the target (probably meaning the target board). "
   ]
  },
  {
   "cell_type": "code",
   "execution_count": 6,
   "id": "a2c169b2",
   "metadata": {},
   "outputs": [],
   "source": [
    "target = cw.target(scope, cw.targets.SimpleSerial2) #cw.targets.SimpleSerial can be omitted\n",
    "#MY CHANGES - changed target to SimpleSerial2 - to be able to send_cmd"
   ]
  },
  {
   "cell_type": "code",
   "execution_count": 41,
   "id": "15fe5e2f",
   "metadata": {},
   "outputs": [
    {
     "name": "stdout",
     "output_type": "stream",
     "text": [
      "SS_VER set to SS_VER_2_1\n",
      "rm -f -- simpleserial-target-CWLITEARM.hex\n",
      "rm -f -- simpleserial-target-CWLITEARM.eep\n",
      "rm -f -- simpleserial-target-CWLITEARM.cof\n",
      "rm -f -- simpleserial-target-CWLITEARM.elf\n",
      "rm -f -- simpleserial-target-CWLITEARM.map\n",
      "rm -f -- simpleserial-target-CWLITEARM.sym\n",
      "rm -f -- simpleserial-target-CWLITEARM.lss\n",
      "rm -f -- objdir/*.o\n",
      "rm -f -- objdir/*.lst\n",
      "rm -f -- main.s network.s simpleserial.s stm32f3_hal.s stm32f3_hal_lowlevel.s stm32f3_sysmem.s\n",
      "rm -f -- main.d network.d simpleserial.d stm32f3_hal.d stm32f3_hal_lowlevel.d stm32f3_sysmem.d\n",
      "rm -f -- main.i network.i simpleserial.i stm32f3_hal.i stm32f3_hal_lowlevel.i stm32f3_sysmem.i\n",
      ".\n",
      "Welcome to another exciting ChipWhisperer target build!!\n",
      "arm-none-eabi-gcc (GNU Arm Embedded Toolchain 10-2020-q4-major) 10.2.1 20201103 (release)\n",
      "Copyright (C) 2020 Free Software Foundation, Inc.\n",
      "This is free software; see the source for copying conditions.  There is NO\n",
      "warranty; not even for MERCHANTABILITY or FITNESS FOR A PARTICULAR PURPOSE.\n",
      "\n",
      ".\n",
      "Compiling C: main.c\n",
      "arm-none-eabi-gcc -c -mcpu=cortex-m4 -I. -mthumb -mfloat-abi=soft -fmessage-length=0 -ffunction-sections -gdwarf-2 -DSS_VER=SS_VER_2_1 -DSTM32F303xC -DSTM32F3 -DSTM32 -DDEBUG -DHAL_TYPE=HAL_stm32f3 -DPLATFORM=CWLITEARM -DF_CPU=7372800UL -DSS_VER_2_0=2 -DSS_VER_1_1=1 -DSS_VER_1_0=0 -Os -funsigned-char -funsigned-bitfields -fshort-enums -Wall -Wstrict-prototypes -Wa,-adhlns=objdir/main.lst -I./simpleserial/ -I./hal -I./hal/stm32f3 -I./hal/stm32f3/CMSIS -I./hal/stm32f3/CMSIS/core -I./hal/stm32f3/CMSIS/device -I./hal/stm32f4/Legacy -std=gnu99  -MMD -MP -MF .dep/main.o.d main.c -o objdir/main.o\n",
      ".\n",
      "Compiling C: network.c\n",
      "arm-none-eabi-gcc -c -mcpu=cortex-m4 -I. -mthumb -mfloat-abi=soft -fmessage-length=0 -ffunction-sections -gdwarf-2 -DSS_VER=SS_VER_2_1 -DSTM32F303xC -DSTM32F3 -DSTM32 -DDEBUG -DHAL_TYPE=HAL_stm32f3 -DPLATFORM=CWLITEARM -DF_CPU=7372800UL -DSS_VER_2_0=2 -DSS_VER_1_1=1 -DSS_VER_1_0=0 -Os -funsigned-char -funsigned-bitfields -fshort-enums -Wall -Wstrict-prototypes -Wa,-adhlns=objdir/network.lst -I./simpleserial/ -I./hal -I./hal/stm32f3 -I./hal/stm32f3/CMSIS -I./hal/stm32f3/CMSIS/core -I./hal/stm32f3/CMSIS/device -I./hal/stm32f4/Legacy -std=gnu99  -MMD -MP -MF .dep/network.o.d network.c -o objdir/network.o\n"
     ]
    },
    {
     "name": "stderr",
     "output_type": "stream",
     "text": [
      "network.c: In function 'generate_random_indices':\n",
      "network.c:82:15: warning: unused variable 'k' [-Wunused-variable]\n",
      "   82 |     int i, j, k;\n",
      "      |               ^\n",
      "network.c: In function 'forward_shuffled_NO':\n",
      "network.c:143:21: warning: unused variable 'scmd' [-Wunused-variable]\n",
      "  143 |     uint8_t result, scmd = 16;\n",
      "      |                     ^~~~\n",
      "network.c:143:13: warning: unused variable 'result' [-Wunused-variable]\n",
      "  143 |     uint8_t result, scmd = 16;\n",
      "      |             ^~~~~~\n",
      "network.c:137:15: warning: unused variable 'k' [-Wunused-variable]\n",
      "  137 |     int i, j, k, nidx = 0;\n",
      "      |               ^\n",
      "network.c:137:12: warning: unused variable 'j' [-Wunused-variable]\n",
      "  137 |     int i, j, k, nidx = 0;\n",
      "      |            ^\n",
      "network.c:137:9: warning: unused variable 'i' [-Wunused-variable]\n",
      "  137 |     int i, j, k, nidx = 0;\n",
      "      |         ^\n",
      "network.c: In function 'forward_shuffled_NO_AAE':\n",
      "network.c:200:21: warning: unused variable 'scmd' [-Wunused-variable]\n",
      "  200 |     uint8_t result, scmd = 16;\n",
      "      |                     ^~~~\n",
      "network.c:200:13: warning: unused variable 'result' [-Wunused-variable]\n",
      "  200 |     uint8_t result, scmd = 16;\n",
      "      |             ^~~~~~\n",
      "network.c:194:15: warning: unused variable 'k' [-Wunused-variable]\n",
      "  194 |     int i, j, k, nidx = 0;\n",
      "      |               ^\n",
      "network.c:194:12: warning: unused variable 'j' [-Wunused-variable]\n",
      "  194 |     int i, j, k, nidx = 0;\n",
      "      |            ^\n",
      "network.c:194:9: warning: unused variable 'i' [-Wunused-variable]\n",
      "  194 |     int i, j, k, nidx = 0;\n",
      "      |         ^\n",
      "network.c: In function 'forward_shuffled':\n",
      "network.c:262:21: warning: unused variable 'scmd' [-Wunused-variable]\n",
      "  262 |     uint8_t result, scmd = 16;\n",
      "      |                     ^~~~\n",
      "network.c:262:13: warning: unused variable 'result' [-Wunused-variable]\n",
      "  262 |     uint8_t result, scmd = 16;\n",
      "      |             ^~~~~~\n",
      "network.c: In function 'forward':\n",
      "network.c:313:21: warning: unused variable 'scmd' [-Wunused-variable]\n",
      "  313 |     uint8_t result, scmd = 16;\n",
      "      |                     ^~~~\n",
      "network.c:313:13: warning: unused variable 'result' [-Wunused-variable]\n",
      "  313 |     uint8_t result, scmd = 16;\n",
      "      |             ^~~~~~\n",
      "network.c: In function 'forward_shuffled_NO_AAE_RDO':\n",
      "network.c:366:13: warning: variable 'result' set but not used [-Wunused-but-set-variable]\n",
      "  366 |     uint8_t result, scmd = 16;\n",
      "      |             ^~~~~~\n",
      "network.c:364:10: warning: variable 'rand_dummy_ops_idx' set but not used [-Wunused-but-set-variable]\n",
      "  364 |     int *rand_dummy_ops_idx;\n",
      "      |          ^~~~~~~~~~~~~~~~~~\n",
      "network.c:358:15: warning: unused variable 'k' [-Wunused-variable]\n",
      "  358 |     int i, j, k, nidx = 0;\n",
      "      |               ^\n",
      "network.c:358:12: warning: unused variable 'j' [-Wunused-variable]\n",
      "  358 |     int i, j, k, nidx = 0;\n",
      "      |            ^\n",
      "network.c:358:9: warning: unused variable 'i' [-Wunused-variable]\n",
      "  358 |     int i, j, k, nidx = 0;\n",
      "      |         ^\n",
      "network.c: In function 'get_random_binary_indices':\n",
      "network.c:133:12: warning: 'indices' is used uninitialized in this function [-Wuninitialized]\n",
      "  133 |     return indices;\n",
      "      |            ^~~~~~~\n"
     ]
    },
    {
     "name": "stdout",
     "output_type": "stream",
     "text": [
      ".\n",
      "Compiling C: ./simpleserial/simpleserial.c\n",
      "arm-none-eabi-gcc -c -mcpu=cortex-m4 -I. -mthumb -mfloat-abi=soft -fmessage-length=0 -ffunction-sections -gdwarf-2 -DSS_VER=SS_VER_2_1 -DSTM32F303xC -DSTM32F3 -DSTM32 -DDEBUG -DHAL_TYPE=HAL_stm32f3 -DPLATFORM=CWLITEARM -DF_CPU=7372800UL -DSS_VER_2_0=2 -DSS_VER_1_1=1 -DSS_VER_1_0=0 -Os -funsigned-char -funsigned-bitfields -fshort-enums -Wall -Wstrict-prototypes -Wa,-adhlns=objdir/simpleserial.lst -I./simpleserial/ -I./hal -I./hal/stm32f3 -I./hal/stm32f3/CMSIS -I./hal/stm32f3/CMSIS/core -I./hal/stm32f3/CMSIS/device -I./hal/stm32f4/Legacy -std=gnu99  -MMD -MP -MF .dep/simpleserial.o.d ./simpleserial/simpleserial.c -o objdir/simpleserial.o\n",
      ".\n",
      "Compiling C: ./hal/stm32f3/stm32f3_hal.c\n",
      "arm-none-eabi-gcc -c -mcpu=cortex-m4 -I. -mthumb -mfloat-abi=soft -fmessage-length=0 -ffunction-sections -gdwarf-2 -DSS_VER=SS_VER_2_1 -DSTM32F303xC -DSTM32F3 -DSTM32 -DDEBUG -DHAL_TYPE=HAL_stm32f3 -DPLATFORM=CWLITEARM -DF_CPU=7372800UL -DSS_VER_2_0=2 -DSS_VER_1_1=1 -DSS_VER_1_0=0 -Os -funsigned-char -funsigned-bitfields -fshort-enums -Wall -Wstrict-prototypes -Wa,-adhlns=objdir/stm32f3_hal.lst -I./simpleserial/ -I./hal -I./hal/stm32f3 -I./hal/stm32f3/CMSIS -I./hal/stm32f3/CMSIS/core -I./hal/stm32f3/CMSIS/device -I./hal/stm32f4/Legacy -std=gnu99  -MMD -MP -MF .dep/stm32f3_hal.o.d ./hal/stm32f3/stm32f3_hal.c -o objdir/stm32f3_hal.o\n",
      ".\n",
      "Compiling C: ./hal/stm32f3/stm32f3_hal_lowlevel.c\n",
      "arm-none-eabi-gcc -c -mcpu=cortex-m4 -I. -mthumb -mfloat-abi=soft -fmessage-length=0 -ffunction-sections -gdwarf-2 -DSS_VER=SS_VER_2_1 -DSTM32F303xC -DSTM32F3 -DSTM32 -DDEBUG -DHAL_TYPE=HAL_stm32f3 -DPLATFORM=CWLITEARM -DF_CPU=7372800UL -DSS_VER_2_0=2 -DSS_VER_1_1=1 -DSS_VER_1_0=0 -Os -funsigned-char -funsigned-bitfields -fshort-enums -Wall -Wstrict-prototypes -Wa,-adhlns=objdir/stm32f3_hal_lowlevel.lst -I./simpleserial/ -I./hal -I./hal/stm32f3 -I./hal/stm32f3/CMSIS -I./hal/stm32f3/CMSIS/core -I./hal/stm32f3/CMSIS/device -I./hal/stm32f4/Legacy -std=gnu99  -MMD -MP -MF .dep/stm32f3_hal_lowlevel.o.d ./hal/stm32f3/stm32f3_hal_lowlevel.c -o objdir/stm32f3_hal_lowlevel.o\n",
      ".\n",
      "Compiling C: ./hal/stm32f3/stm32f3_sysmem.c\n",
      "arm-none-eabi-gcc -c -mcpu=cortex-m4 -I. -mthumb -mfloat-abi=soft -fmessage-length=0 -ffunction-sections -gdwarf-2 -DSS_VER=SS_VER_2_1 -DSTM32F303xC -DSTM32F3 -DSTM32 -DDEBUG -DHAL_TYPE=HAL_stm32f3 -DPLATFORM=CWLITEARM -DF_CPU=7372800UL -DSS_VER_2_0=2 -DSS_VER_1_1=1 -DSS_VER_1_0=0 -Os -funsigned-char -funsigned-bitfields -fshort-enums -Wall -Wstrict-prototypes -Wa,-adhlns=objdir/stm32f3_sysmem.lst -I./simpleserial/ -I./hal -I./hal/stm32f3 -I./hal/stm32f3/CMSIS -I./hal/stm32f3/CMSIS/core -I./hal/stm32f3/CMSIS/device -I./hal/stm32f4/Legacy -std=gnu99  -MMD -MP -MF .dep/stm32f3_sysmem.o.d ./hal/stm32f3/stm32f3_sysmem.c -o objdir/stm32f3_sysmem.o\n",
      ".\n",
      "Assembling: ./hal/stm32f3/stm32f3_startup.S\n",
      "arm-none-eabi-gcc -c -mcpu=cortex-m4 -I. -x assembler-with-cpp -mthumb -mfloat-abi=soft -fmessage-length=0 -ffunction-sections -DF_CPU=7372800 -Wa,-gstabs,-adhlns=objdir/stm32f3_startup.lst -I./simpleserial/ -I./hal -I./hal/stm32f3 -I./hal/stm32f3/CMSIS -I./hal/stm32f3/CMSIS/core -I./hal/stm32f3/CMSIS/device -I./hal/stm32f4/Legacy ./hal/stm32f3/stm32f3_startup.S -o objdir/stm32f3_startup.o\n",
      ".\n",
      "Linking: simpleserial-target-CWLITEARM.elf\n",
      "arm-none-eabi-gcc -mcpu=cortex-m4 -I. -mthumb -mfloat-abi=soft -fmessage-length=0 -ffunction-sections -gdwarf-2 -DSS_VER=SS_VER_2_1 -DSTM32F303xC -DSTM32F3 -DSTM32 -DDEBUG -DHAL_TYPE=HAL_stm32f3 -DPLATFORM=CWLITEARM -DF_CPU=7372800UL -DSS_VER_2_0=2 -DSS_VER_1_1=1 -DSS_VER_1_0=0 -Os -funsigned-char -funsigned-bitfields -fshort-enums -Wall -Wstrict-prototypes -Wa,-adhlns=objdir/main.o -I./simpleserial/ -I./hal -I./hal/stm32f3 -I./hal/stm32f3/CMSIS -I./hal/stm32f3/CMSIS/core -I./hal/stm32f3/CMSIS/device -I./hal/stm32f4/Legacy -std=gnu99  -MMD -MP -MF .dep/simpleserial-target-CWLITEARM.elf.d objdir/main.o objdir/network.o objdir/simpleserial.o objdir/stm32f3_hal.o objdir/stm32f3_hal_lowlevel.o objdir/stm32f3_sysmem.o objdir/stm32f3_startup.o --output simpleserial-target-CWLITEARM.elf --specs=nano.specs --specs=nosys.specs -T ./hal/stm32f3/LinkerScript.ld -Wl,--gc-sections -lm -Wl,-Map=simpleserial-target-CWLITEARM.map,--cref   -lm  \n",
      ".\n",
      "Creating load file for Flash: simpleserial-target-CWLITEARM.hex\n",
      "arm-none-eabi-objcopy -O ihex -R .eeprom -R .fuse -R .lock -R .signature simpleserial-target-CWLITEARM.elf simpleserial-target-CWLITEARM.hex\n",
      ".\n",
      "Creating load file for EEPROM: simpleserial-target-CWLITEARM.eep\n",
      "arm-none-eabi-objcopy -j .eeprom --set-section-flags=.eeprom=\"alloc,load\" \\\n",
      "--change-section-lma .eeprom=0 --no-change-warnings -O ihex simpleserial-target-CWLITEARM.elf simpleserial-target-CWLITEARM.eep || exit 0\n",
      ".\n",
      "Creating Extended Listing: simpleserial-target-CWLITEARM.lss\n",
      "arm-none-eabi-objdump -h -S -z simpleserial-target-CWLITEARM.elf > simpleserial-target-CWLITEARM.lss\n",
      ".\n",
      "Creating Symbol Table: simpleserial-target-CWLITEARM.sym\n",
      "arm-none-eabi-nm -n simpleserial-target-CWLITEARM.elf > simpleserial-target-CWLITEARM.sym\n",
      "Size after:\n",
      "   text\t   data\t    bss\t    dec\t    hex\tfilename\n",
      "  15772\t    112\t   1392\t  17276\t   437c\tsimpleserial-target-CWLITEARM.elf\n",
      "+--------------------------------------------------------\n",
      "+ Default target does full rebuild each time.\n",
      "+ Specify buildtarget == allquick == to avoid full rebuild\n",
      "+--------------------------------------------------------\n",
      "+--------------------------------------------------------\n",
      "+ Built for platform CW-Lite Arm \\(STM32F3\\) with:\n",
      "+--------------------------------------------------------\n"
     ]
    }
   ],
   "source": [
    "%%bash\n",
    "cd version_01/\n",
    "make PLATFORM='CWLITEARM' CRYPTO_TARGET=NONE"
   ]
  },
  {
   "cell_type": "markdown",
   "id": "013fb9f3",
   "metadata": {},
   "source": [
    "### Flashing The Compiled .hex Onto Target"
   ]
  },
  {
   "cell_type": "code",
   "execution_count": 42,
   "id": "fa89d8d7",
   "metadata": {},
   "outputs": [
    {
     "name": "stdout",
     "output_type": "stream",
     "text": [
      "Detected known STMF32: STM32F302xB(C)/303xB(C)\n",
      "Extended erase (0x44), this can take ten seconds or more\n",
      "Attempting to program 15895 bytes at 0x8000000\n",
      "STM32F Programming flash...\n",
      "STM32F Reading flash...\n",
      "Verified flash OK, 15895 bytes\n"
     ]
    }
   ],
   "source": [
    "cw.program_target(scope, cw.programmers.STM32FProgrammer, \"version_01/simpleserial-target-CWLITEARM.hex\")"
   ]
  },
  {
   "cell_type": "markdown",
   "id": "0513f55a",
   "metadata": {},
   "source": [
    "### Capturing a trace"
   ]
  },
  {
   "cell_type": "code",
   "execution_count": 43,
   "id": "b04610e4",
   "metadata": {},
   "outputs": [
    {
     "name": "stdout",
     "output_type": "stream",
     "text": [
      "CWbytearray(b'00 72 01 00 99 00')\n",
      "CWbytearray(b'00 65 01 00 eb 00')\n",
      "24431\n"
     ]
    }
   ],
   "source": [
    "# arm the scope\n",
    "scope.arm()\n",
    "\n",
    "# Set the maximum number of points in a trace\n",
    "scope.adc.fifo_fill_mode = \"normal\"\n",
    "scope.adc.samples = 24431\n",
    "scope.adc.decimate = 2\n",
    "\n",
    "\n",
    "# flush the UART buffer\n",
    "target.flush()\n",
    "\n",
    "data = bytearray([0x42] * 16)\n",
    "\n",
    "#target.simpleserial_write('p', data)\n",
    "target.send_cmd('p', 0x80, data)\n",
    "\n",
    "ret = scope.capture()\n",
    "trace = scope.get_last_trace()\n",
    "\n",
    "returned_data = target.read_cmd('r')\n",
    "print(returned_data)\n",
    "ack = target.read_cmd('e')\n",
    "print(ack)\n",
    "print(len(trace))"
   ]
  },
  {
   "cell_type": "code",
   "execution_count": 44,
   "id": "645f39c0",
   "metadata": {},
   "outputs": [
    {
     "name": "stdout",
     "output_type": "stream",
     "text": [
      "[{'cmd': b'v', 'len': 0, 'flags': 0}, {'cmd': b'w', 'len': 0, 'flags': 0}, {'cmd': b'p', 'len': 0, 'flags': 0}, {'cmd': b'x', 'len': 0, 'flags': 0}]\n"
     ]
    }
   ],
   "source": [
    "print(target.get_simpleserial_commands())"
   ]
  },
  {
   "cell_type": "code",
   "execution_count": 46,
   "id": "f7210e10",
   "metadata": {},
   "outputs": [
    {
     "name": "stdout",
     "output_type": "stream",
     "text": [
      "CWbytearray(b'00 72 10 01 02 03 04 05 06 07 08 09 0a 0b 0c 0d 0e 0f 10 cf 00')\n"
     ]
    }
   ],
   "source": [
    "target.send_cmd('x', 0x80, data)\n",
    "returned_data = target.read_cmd('r')\n",
    "\n",
    "print(returned_data)\n"
   ]
  },
  {
   "cell_type": "code",
   "execution_count": 17,
   "id": "890b5630",
   "metadata": {
    "scrolled": false
   },
   "outputs": [
    {
     "data": {
      "image/png": "[encoded data removed]",
      "text/plain": [
       "<Figure size 640x480 with 1 Axes>"
      ]
     },
     "metadata": {},
     "output_type": "display_data"
    }
   ],
   "source": [
    "import matplotlib.pyplot as plt\n",
    "# Plot the trace\n",
    "plt.plot(trace, linewidth=0.8)\n",
    "\n",
    "plt.savefig('figure.svg', format='svg')\n",
    "plt.show()"
   ]
  },
  {
   "cell_type": "code",
   "execution_count": null,
   "id": "a9a07a0b",
   "metadata": {},
   "outputs": [],
   "source": [
    "print(returned_data)\n",
    "byte_arr = bytearray(returned_data)\n",
    "print(byte_arr)\n"
   ]
  },
  {
   "cell_type": "markdown",
   "id": "7ecac6f1",
   "metadata": {},
   "source": [
    "### Trying Segmented Capture"
   ]
  },
  {
   "cell_type": "code",
   "execution_count": null,
   "id": "e8ca8e4f",
   "metadata": {},
   "outputs": [],
   "source": [
    "scope.arm()\n",
    "scope.adc.fifo_fill_mode = \"segment\"\n",
    "scope.adc.samples = 21000\n",
    "# flush the UART buffer\n",
    "target.flush()\n",
    "\n",
    "data = bytearray([0x42] * 16)\n",
    "target.send_cmd('p', 0x80, data)\n",
    "traces = []\n",
    "\n",
    "ret = scope.capture_segmented()\n",
    "trace = scope.get_last_trace_segmented()\n",
    "\n",
    "total_trace = []\n",
    "print(len(trace))\n",
    "for t in trace:\n",
    "    print(len(t))\n",
    "    for p in t:\n",
    "        total_trace.append(p)\n",
    "        \n",
    "ret = scope.capture_segmented()\n",
    "trace = scope.get_last_trace_segmented()\n",
    "\n",
    "print(len(trace))\n",
    "for t in trace:\n",
    "    print(len(t))\n",
    "    for p in t:\n",
    "        total_trace.append(p)\n",
    "    \n",
    "#while captured_points < total_points:\n",
    "#        \n",
    "#    ret = scope.capture_segmented()\n",
    "#    trace = scope.get_last_trace_segmented()\n",
    "#    \n",
    "#    traces.append(trace)\n",
    "#    print(len(trace))\n",
    "#    captured_points += len(trace)"
   ]
  },
  {
   "cell_type": "code",
   "execution_count": null,
   "id": "07ce42eb",
   "metadata": {},
   "outputs": [],
   "source": [
    "plt.plot(total_trace, linewidth=0.8)\n",
    "\n",
    "plt.savefig('figure_segmented.svg', format='svg')\n",
    "plt.show()"
   ]
  },
  {
   "cell_type": "markdown",
   "id": "7dcfd08b",
   "metadata": {},
   "source": [
    "### Disconnecting the target and the scope"
   ]
  },
  {
   "cell_type": "code",
   "execution_count": null,
   "id": "7d370794",
   "metadata": {},
   "outputs": [],
   "source": [
    "target.dis()"
   ]
  },
  {
   "cell_type": "code",
   "execution_count": null,
   "id": "92c2291d",
   "metadata": {},
   "outputs": [],
   "source": [
    "scope.dis()"
   ]
  }
 ],
 "metadata": {
  "kernelspec": {
   "display_name": "Python 3 (ipykernel)",
   "language": "python",
   "name": "python3"
  },
  "language_info": {
   "codemirror_mode": {
    "name": "ipython",
    "version": 3
   },
   "file_extension": ".py",
   "mimetype": "text/x-python",
   "name": "python",
   "nbconvert_exporter": "python",
   "pygments_lexer": "ipython3",
   "version": "3.10.8"
  }
 },
 "nbformat": 4,
 "nbformat_minor": 5
}

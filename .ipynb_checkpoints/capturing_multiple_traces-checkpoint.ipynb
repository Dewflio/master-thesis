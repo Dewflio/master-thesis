{
 "cells": [
  {
   "cell_type": "markdown",
   "id": "c9423399",
   "metadata": {},
   "source": [
    "### Imports"
   ]
  },
  {
   "cell_type": "code",
   "execution_count": 1,
   "id": "e3f10ad1",
   "metadata": {},
   "outputs": [],
   "source": [
    "import chipwhisperer as cw\n",
    "import matplotlib.pyplot as plt\n",
    "import numpy as np\n",
    "import time\n",
    "import struct\n",
    "import random\n",
    "\n",
    "from scipy.signal import find_peaks"
   ]
  },
  {
   "cell_type": "markdown",
   "id": "d76aa78b",
   "metadata": {},
   "source": [
    "### Function Definitions"
   ]
  },
  {
   "cell_type": "code",
   "execution_count": 2,
   "id": "09958b5f",
   "metadata": {},
   "outputs": [],
   "source": [
    "def random_float(min_val, max_val):\n",
    "    # Generate a random float between min_val and max_val\n",
    "    rand_float = random.uniform(min_val, max_val)\n",
    "    # Round to 2 decimal places\n",
    "    return round(rand_float, 2)"
   ]
  },
  {
   "cell_type": "code",
   "execution_count": 3,
   "id": "c631e85a",
   "metadata": {},
   "outputs": [],
   "source": [
    "def float_to_bytearray_32bit_little_edian(f):\n",
    "    # Pack the float as a 32-bit (4-byte) IEEE 754 floating point number\n",
    "    packed = struct.pack('f', f)\n",
    "    # Convert to bytearray\n",
    "    return bytearray(packed)"
   ]
  },
  {
   "cell_type": "code",
   "execution_count": 4,
   "id": "237e36fa",
   "metadata": {},
   "outputs": [],
   "source": [
    "def scope_setup(samples=24431, decimate=2):\n",
    "    # arm the scope\n",
    "    scope.arm()\n",
    "    \n",
    "    # Set the maximum number of points in a trace\n",
    "    scope.adc.fifo_fill_mode = \"normal\"\n",
    "    scope.adc.samples = samples\n",
    "    scope.adc.decimate = decimate"
   ]
  },
  {
   "cell_type": "code",
   "execution_count": 5,
   "id": "b354493b",
   "metadata": {},
   "outputs": [],
   "source": [
    "def capture_trace(cmd_data, cmd='p', prints=True):\n",
    "    scope.arm()\n",
    "    # flush the UART buffer\n",
    "    target.flush()\n",
    "    \n",
    "    target.send_cmd(cmd, 0x80, cmd_data)\n",
    "    ret = scope.capture()\n",
    "    trace = scope.get_last_trace()\n",
    "    \n",
    "    returned_data = target.read_cmd('r')\n",
    "    ack = target.read_cmd('e')\n",
    "    if prints:\n",
    "        print(returned_data)\n",
    "        print(ack)\n",
    "    return trace\n",
    "    "
   ]
  },
  {
   "cell_type": "code",
   "execution_count": 6,
   "id": "1cacc05e",
   "metadata": {},
   "outputs": [],
   "source": [
    "def plot_trace(trace, vlines=[], save=False, fig_name='figure.svg'):\n",
    "    # Plot the trace\n",
    "    plt.plot(trace, linewidth=0.8)\n",
    "    if len(vlines) > 0:\n",
    "        plt.vlines(vlines, -0.4, 0.3, colors='red')\n",
    "    if save:\n",
    "        plt.savefig('figure.svg', format='svg')\n",
    "    plt.show()"
   ]
  },
  {
   "cell_type": "code",
   "execution_count": 7,
   "id": "c53a48cd",
   "metadata": {},
   "outputs": [],
   "source": [
    "def filter_peaks(arr, old_idxs, level):\n",
    "    \n",
    "    if level > 0: \n",
    "        a = np.array(arr, dtype=np.float32)\n",
    "        indices, props = find_peaks(a)\n",
    "        \n",
    "        peak_arr = []\n",
    "        new_idxs = []\n",
    "        for idx in indices:\n",
    "            peak_arr.append(arr[idx])\n",
    "            new_idxs.append(old_idxs[idx])\n",
    "        \n",
    "        filtered_indices = filter_peaks(peak_arr, new_idxs, level - 1)\n",
    "        return filtered_indices\n",
    "    else:\n",
    "        return old_idxs"
   ]
  },
  {
   "cell_type": "code",
   "execution_count": 8,
   "id": "3a8ed43d",
   "metadata": {},
   "outputs": [],
   "source": [
    "def find_local_maxima(trace, levels):\n",
    "    original_indices = []\n",
    "    for i in range(len(trace)):\n",
    "        original_indices.append(i)\n",
    "    return filter_peaks(trace, original_indices, levels)\n",
    "    \n"
   ]
  },
  {
   "cell_type": "markdown",
   "id": "9d6305e4",
   "metadata": {},
   "source": [
    "### Target Setup"
   ]
  },
  {
   "cell_type": "code",
   "execution_count": 9,
   "id": "7240f8d8",
   "metadata": {},
   "outputs": [],
   "source": [
    "#Scope setup\n",
    "scope = cw.scope()\n",
    "scope.default_setup()\n",
    "\n",
    "target = cw.target(scope, cw.targets.SimpleSerial2) #cw.targets.SimpleSerial can be omitted\n",
    "#MY CHANGES - changed target to SimpleSerial2 - to be able to send_cmd"
   ]
  },
  {
   "cell_type": "code",
   "execution_count": 10,
   "id": "22f585db",
   "metadata": {},
   "outputs": [],
   "source": [
    "scope_setup(samples=24430, decimate=1)"
   ]
  },
  {
   "cell_type": "code",
   "execution_count": 29,
   "id": "de313acd",
   "metadata": {},
   "outputs": [
    {
     "name": "stdout",
     "output_type": "stream",
     "text": [
      "SS_VER set to SS_VER_2_1\n",
      "rm -f -- simpleserial-target-CWLITEARM.hex\n",
      "rm -f -- simpleserial-target-CWLITEARM.eep\n",
      "rm -f -- simpleserial-target-CWLITEARM.cof\n",
      "rm -f -- simpleserial-target-CWLITEARM.elf\n",
      "rm -f -- simpleserial-target-CWLITEARM.map\n",
      "rm -f -- simpleserial-target-CWLITEARM.sym\n",
      "rm -f -- simpleserial-target-CWLITEARM.lss\n",
      "rm -f -- objdir/*.o\n",
      "rm -f -- objdir/*.lst\n",
      "rm -f -- main.s network.s simpleserial.s stm32f3_hal.s stm32f3_hal_lowlevel.s stm32f3_sysmem.s\n",
      "rm -f -- main.d network.d simpleserial.d stm32f3_hal.d stm32f3_hal_lowlevel.d stm32f3_sysmem.d\n",
      "rm -f -- main.i network.i simpleserial.i stm32f3_hal.i stm32f3_hal_lowlevel.i stm32f3_sysmem.i\n",
      ".\n",
      "Welcome to another exciting ChipWhisperer target build!!\n",
      "arm-none-eabi-gcc (GNU Arm Embedded Toolchain 10-2020-q4-major) 10.2.1 20201103 (release)\n",
      "Copyright (C) 2020 Free Software Foundation, Inc.\n",
      "This is free software; see the source for copying conditions.  There is NO\n",
      "warranty; not even for MERCHANTABILITY or FITNESS FOR A PARTICULAR PURPOSE.\n",
      "\n",
      ".\n",
      "Compiling C: main.c\n",
      "arm-none-eabi-gcc -c -mcpu=cortex-m4 -I. -mthumb -mfloat-abi=soft -fmessage-length=0 -ffunction-sections -gdwarf-2 -DSS_VER=SS_VER_2_1 -DSTM32F303xC -DSTM32F3 -DSTM32 -DDEBUG -DHAL_TYPE=HAL_stm32f3 -DPLATFORM=CWLITEARM -DF_CPU=7372800UL -DSS_VER_2_0=2 -DSS_VER_1_1=1 -DSS_VER_1_0=0 -Os -funsigned-char -funsigned-bitfields -fshort-enums -Wall -Wstrict-prototypes -Wa,-adhlns=objdir/main.lst -I./simpleserial/ -I./hal -I./hal/stm32f3 -I./hal/stm32f3/CMSIS -I./hal/stm32f3/CMSIS/core -I./hal/stm32f3/CMSIS/device -I./hal/stm32f4/Legacy -std=gnu99  -MMD -MP -MF .dep/main.o.d main.c -o objdir/main.o\n"
     ]
    },
    {
     "name": "stderr",
     "output_type": "stream",
     "text": [
      "In file included from main.c:16:\n",
      "network_config.h:15:6: warning: function declaration isn't a prototype [-Wstrict-prototypes]\n",
      "   15 | void init_weights() {\n",
      "      |      ^~~~~~~~~~~~\n"
     ]
    },
    {
     "name": "stdout",
     "output_type": "stream",
     "text": [
      ".\n",
      "Compiling C: network.c\n",
      "arm-none-eabi-gcc -c -mcpu=cortex-m4 -I. -mthumb -mfloat-abi=soft -fmessage-length=0 -ffunction-sections -gdwarf-2 -DSS_VER=SS_VER_2_1 -DSTM32F303xC -DSTM32F3 -DSTM32 -DDEBUG -DHAL_TYPE=HAL_stm32f3 -DPLATFORM=CWLITEARM -DF_CPU=7372800UL -DSS_VER_2_0=2 -DSS_VER_1_1=1 -DSS_VER_1_0=0 -Os -funsigned-char -funsigned-bitfields -fshort-enums -Wall -Wstrict-prototypes -Wa,-adhlns=objdir/network.lst -I./simpleserial/ -I./hal -I./hal/stm32f3 -I./hal/stm32f3/CMSIS -I./hal/stm32f3/CMSIS/core -I./hal/stm32f3/CMSIS/device -I./hal/stm32f4/Legacy -std=gnu99  -MMD -MP -MF .dep/network.o.d network.c -o objdir/network.o\n",
      ".\n",
      "Compiling C: ./simpleserial/simpleserial.c\n",
      "arm-none-eabi-gcc -c -mcpu=cortex-m4 -I. -mthumb -mfloat-abi=soft -fmessage-length=0 -ffunction-sections -gdwarf-2 -DSS_VER=SS_VER_2_1 -DSTM32F303xC -DSTM32F3 -DSTM32 -DDEBUG -DHAL_TYPE=HAL_stm32f3 -DPLATFORM=CWLITEARM -DF_CPU=7372800UL -DSS_VER_2_0=2 -DSS_VER_1_1=1 -DSS_VER_1_0=0 -Os -funsigned-char -funsigned-bitfields -fshort-enums -Wall -Wstrict-prototypes -Wa,-adhlns=objdir/simpleserial.lst -I./simpleserial/ -I./hal -I./hal/stm32f3 -I./hal/stm32f3/CMSIS -I./hal/stm32f3/CMSIS/core -I./hal/stm32f3/CMSIS/device -I./hal/stm32f4/Legacy -std=gnu99  -MMD -MP -MF .dep/simpleserial.o.d ./simpleserial/simpleserial.c -o objdir/simpleserial.o\n",
      ".\n",
      "Compiling C: ./hal/stm32f3/stm32f3_hal.c\n",
      "arm-none-eabi-gcc -c -mcpu=cortex-m4 -I. -mthumb -mfloat-abi=soft -fmessage-length=0 -ffunction-sections -gdwarf-2 -DSS_VER=SS_VER_2_1 -DSTM32F303xC -DSTM32F3 -DSTM32 -DDEBUG -DHAL_TYPE=HAL_stm32f3 -DPLATFORM=CWLITEARM -DF_CPU=7372800UL -DSS_VER_2_0=2 -DSS_VER_1_1=1 -DSS_VER_1_0=0 -Os -funsigned-char -funsigned-bitfields -fshort-enums -Wall -Wstrict-prototypes -Wa,-adhlns=objdir/stm32f3_hal.lst -I./simpleserial/ -I./hal -I./hal/stm32f3 -I./hal/stm32f3/CMSIS -I./hal/stm32f3/CMSIS/core -I./hal/stm32f3/CMSIS/device -I./hal/stm32f4/Legacy -std=gnu99  -MMD -MP -MF .dep/stm32f3_hal.o.d ./hal/stm32f3/stm32f3_hal.c -o objdir/stm32f3_hal.o\n",
      ".\n",
      "Compiling C: ./hal/stm32f3/stm32f3_hal_lowlevel.c\n",
      "arm-none-eabi-gcc -c -mcpu=cortex-m4 -I. -mthumb -mfloat-abi=soft -fmessage-length=0 -ffunction-sections -gdwarf-2 -DSS_VER=SS_VER_2_1 -DSTM32F303xC -DSTM32F3 -DSTM32 -DDEBUG -DHAL_TYPE=HAL_stm32f3 -DPLATFORM=CWLITEARM -DF_CPU=7372800UL -DSS_VER_2_0=2 -DSS_VER_1_1=1 -DSS_VER_1_0=0 -Os -funsigned-char -funsigned-bitfields -fshort-enums -Wall -Wstrict-prototypes -Wa,-adhlns=objdir/stm32f3_hal_lowlevel.lst -I./simpleserial/ -I./hal -I./hal/stm32f3 -I./hal/stm32f3/CMSIS -I./hal/stm32f3/CMSIS/core -I./hal/stm32f3/CMSIS/device -I./hal/stm32f4/Legacy -std=gnu99  -MMD -MP -MF .dep/stm32f3_hal_lowlevel.o.d ./hal/stm32f3/stm32f3_hal_lowlevel.c -o objdir/stm32f3_hal_lowlevel.o\n",
      ".\n",
      "Compiling C: ./hal/stm32f3/stm32f3_sysmem.c\n",
      "arm-none-eabi-gcc -c -mcpu=cortex-m4 -I. -mthumb -mfloat-abi=soft -fmessage-length=0 -ffunction-sections -gdwarf-2 -DSS_VER=SS_VER_2_1 -DSTM32F303xC -DSTM32F3 -DSTM32 -DDEBUG -DHAL_TYPE=HAL_stm32f3 -DPLATFORM=CWLITEARM -DF_CPU=7372800UL -DSS_VER_2_0=2 -DSS_VER_1_1=1 -DSS_VER_1_0=0 -Os -funsigned-char -funsigned-bitfields -fshort-enums -Wall -Wstrict-prototypes -Wa,-adhlns=objdir/stm32f3_sysmem.lst -I./simpleserial/ -I./hal -I./hal/stm32f3 -I./hal/stm32f3/CMSIS -I./hal/stm32f3/CMSIS/core -I./hal/stm32f3/CMSIS/device -I./hal/stm32f4/Legacy -std=gnu99  -MMD -MP -MF .dep/stm32f3_sysmem.o.d ./hal/stm32f3/stm32f3_sysmem.c -o objdir/stm32f3_sysmem.o\n",
      ".\n",
      "Assembling: ./hal/stm32f3/stm32f3_startup.S\n",
      "arm-none-eabi-gcc -c -mcpu=cortex-m4 -I. -x assembler-with-cpp -mthumb -mfloat-abi=soft -fmessage-length=0 -ffunction-sections -DF_CPU=7372800 -Wa,-gstabs,-adhlns=objdir/stm32f3_startup.lst -I./simpleserial/ -I./hal -I./hal/stm32f3 -I./hal/stm32f3/CMSIS -I./hal/stm32f3/CMSIS/core -I./hal/stm32f3/CMSIS/device -I./hal/stm32f4/Legacy ./hal/stm32f3/stm32f3_startup.S -o objdir/stm32f3_startup.o\n",
      ".\n",
      "Linking: simpleserial-target-CWLITEARM.elf\n",
      "arm-none-eabi-gcc -mcpu=cortex-m4 -I. -mthumb -mfloat-abi=soft -fmessage-length=0 -ffunction-sections -gdwarf-2 -DSS_VER=SS_VER_2_1 -DSTM32F303xC -DSTM32F3 -DSTM32 -DDEBUG -DHAL_TYPE=HAL_stm32f3 -DPLATFORM=CWLITEARM -DF_CPU=7372800UL -DSS_VER_2_0=2 -DSS_VER_1_1=1 -DSS_VER_1_0=0 -Os -funsigned-char -funsigned-bitfields -fshort-enums -Wall -Wstrict-prototypes -Wa,-adhlns=objdir/main.o -I./simpleserial/ -I./hal -I./hal/stm32f3 -I./hal/stm32f3/CMSIS -I./hal/stm32f3/CMSIS/core -I./hal/stm32f3/CMSIS/device -I./hal/stm32f4/Legacy -std=gnu99  -MMD -MP -MF .dep/simpleserial-target-CWLITEARM.elf.d objdir/main.o objdir/network.o objdir/simpleserial.o objdir/stm32f3_hal.o objdir/stm32f3_hal_lowlevel.o objdir/stm32f3_sysmem.o objdir/stm32f3_startup.o --output simpleserial-target-CWLITEARM.elf --specs=nano.specs --specs=nosys.specs -T ./hal/stm32f3/LinkerScript.ld -Wl,--gc-sections -lm -Wl,-Map=simpleserial-target-CWLITEARM.map,--cref   -lm  \n",
      ".\n",
      "Creating load file for Flash: simpleserial-target-CWLITEARM.hex\n",
      "arm-none-eabi-objcopy -O ihex -R .eeprom -R .fuse -R .lock -R .signature simpleserial-target-CWLITEARM.elf simpleserial-target-CWLITEARM.hex\n",
      ".\n",
      "Creating load file for EEPROM: simpleserial-target-CWLITEARM.eep\n",
      "arm-none-eabi-objcopy -j .eeprom --set-section-flags=.eeprom=\"alloc,load\" \\\n",
      "--change-section-lma .eeprom=0 --no-change-warnings -O ihex simpleserial-target-CWLITEARM.elf simpleserial-target-CWLITEARM.eep || exit 0\n",
      ".\n",
      "Creating Extended Listing: simpleserial-target-CWLITEARM.lss\n",
      "arm-none-eabi-objdump -h -S -z simpleserial-target-CWLITEARM.elf > simpleserial-target-CWLITEARM.lss\n",
      ".\n",
      "Creating Symbol Table: simpleserial-target-CWLITEARM.sym\n",
      "arm-none-eabi-nm -n simpleserial-target-CWLITEARM.elf > simpleserial-target-CWLITEARM.sym\n",
      "Size after:\n",
      "   text\t   data\t    bss\t    dec\t    hex\tfilename\n",
      "  16284\t    112\t   1768\t  18164\t   46f4\tsimpleserial-target-CWLITEARM.elf\n",
      "+--------------------------------------------------------\n",
      "+ Default target does full rebuild each time.\n",
      "+ Specify buildtarget == allquick == to avoid full rebuild\n",
      "+--------------------------------------------------------\n",
      "+--------------------------------------------------------\n",
      "+ Built for platform CW-Lite Arm \\(STM32F3\\) with:\n",
      "+--------------------------------------------------------\n"
     ]
    }
   ],
   "source": [
    "%%bash\n",
    "cd version_02/\n",
    "make PLATFORM='CWLITEARM' CRYPTO_TARGET=NONE"
   ]
  },
  {
   "cell_type": "code",
   "execution_count": 30,
   "id": "8bc64fac",
   "metadata": {},
   "outputs": [
    {
     "name": "stdout",
     "output_type": "stream",
     "text": [
      "Detected known STMF32: STM32F302xB(C)/303xB(C)\n",
      "Extended erase (0x44), this can take ten seconds or more\n",
      "Attempting to program 16407 bytes at 0x8000000\n",
      "STM32F Programming flash...\n",
      "STM32F Reading flash...\n",
      "Verified flash OK, 16407 bytes\n"
     ]
    }
   ],
   "source": [
    "cw.program_target(scope, cw.programmers.STM32FProgrammer, \"version_02/simpleserial-target-CWLITEARM.hex\")"
   ]
  },
  {
   "cell_type": "markdown",
   "id": "f61c9dac",
   "metadata": {},
   "source": [
    "### Trace Capture Test"
   ]
  },
  {
   "cell_type": "code",
   "execution_count": 31,
   "id": "68bd46b2",
   "metadata": {},
   "outputs": [
    {
     "name": "stdout",
     "output_type": "stream",
     "text": [
      "bytearray(b'BBBB')\n",
      "bytearray(b\"\\'1(\\xbf\")\n",
      "CWbytearray(b'00 72 04 27 31 28 bf 63 00')\n",
      "CWbytearray(b'00 65 01 00 eb 00')\n"
     ]
    }
   ],
   "source": [
    "float_val = -0.657\n",
    "float_bytearray = float_to_bytearray_32bit_little_edian(float_val)\n",
    "\n",
    "data = bytearray([0x42] * 4)\n",
    "print(data)\n",
    "print(float_bytearray)\n",
    "\n",
    "trace_wave = capture_trace(float_bytearray)\n",
    "trace = cw.Trace(wave=trace_wave, textin=None, textout=None, key=None)"
   ]
  },
  {
   "cell_type": "code",
   "execution_count": 32,
   "id": "283b42c0",
   "metadata": {},
   "outputs": [
    {
     "name": "stdout",
     "output_type": "stream",
     "text": [
      "16\n"
     ]
    }
   ],
   "source": [
    "peak_indices = find_local_maxima(trace_wave, 5)\n",
    "print(len(peak_indices))"
   ]
  },
  {
   "cell_type": "code",
   "execution_count": 33,
   "id": "bd9ee6f2",
   "metadata": {},
   "outputs": [
    {
     "name": "stdout",
     "output_type": "stream",
     "text": [
      "[2100, 3272, 4284, 5092, 6552, 7984, 8772, 9924, 11716, 13176, 14648, 15408, 16488, 17740, 19272, 21980]\n"
     ]
    }
   ],
   "source": [
    "print(peak_indices)"
   ]
  },
  {
   "cell_type": "code",
   "execution_count": 34,
   "id": "02a2a817",
   "metadata": {},
   "outputs": [],
   "source": [
    "#peak_indices[0] = 400\n",
    "#peak_indices[2] = 4400 "
   ]
  },
  {
   "cell_type": "code",
   "execution_count": 35,
   "id": "a86dd82c",
   "metadata": {},
   "outputs": [
    {
     "data": {
      "image/png": "[encoded data removed]",
      "text/plain": [
       "<Figure size 640x480 with 1 Axes>"
      ]
     },
     "metadata": {},
     "output_type": "display_data"
    }
   ],
   "source": [
    "plot_trace(trace_wave, vlines=peak_indices)\n"
   ]
  },
  {
   "cell_type": "markdown",
   "id": "866c455f",
   "metadata": {},
   "source": [
    "### Initialize the project\n",
    "\n",
    "The Chipwhisperer `Project` class can be used to keep a collection of traces. "
   ]
  },
  {
   "cell_type": "code",
   "execution_count": 18,
   "id": "cc267ea6",
   "metadata": {},
   "outputs": [],
   "source": [
    "proj_dir = \"./cw_projects/\"\n",
    "proj_name = \"project-08\"\n",
    "proj = cw.create_project(proj_dir + proj_name)\n",
    "\n",
    "# project-05\n",
    "# input_vals = []\n",
    "# for i in range(1000):\n",
    "#    input_vals.append(random_float(-5, 5))\n",
    "\n",
    "#project-06\n",
    "num_traces = 2000\n",
    "min_in_val = -20\n",
    "max_in_val = 20\n",
    "\n",
    "#project-07\n",
    "num_traces = 100000\n",
    "min_in_val = -20\n",
    "max_in_val = 20\n",
    "\n",
    "#project-08\n",
    "num_traces = 1000\n",
    "min_in_val = -2\n",
    "max_in_val = 2"
   ]
  },
  {
   "cell_type": "code",
   "execution_count": 19,
   "id": "9d6512e2",
   "metadata": {},
   "outputs": [
    {
     "name": "stdout",
     "output_type": "stream",
     "text": [
      "1.9994725978266916\n",
      "-1.9992189065185264\n",
      "1000\n"
     ]
    }
   ],
   "source": [
    "input_vals = []\n",
    "\n",
    "for i in range(num_traces):\n",
    "    input_vals.append(random.uniform(min_in_val, max_in_val))\n",
    "\n",
    "\n",
    "print(max(input_vals))\n",
    "print(min(input_vals))\n",
    "print(len(input_vals))"
   ]
  },
  {
   "cell_type": "code",
   "execution_count": 20,
   "id": "d848b07c",
   "metadata": {},
   "outputs": [
    {
     "name": "stdout",
     "output_type": "stream",
     "text": [
      "completed 100 traces in\t3.0560531616210938 seconds\n",
      "completed 200 traces in\t6.507294416427612 seconds\n",
      "completed 300 traces in\t10.043549060821533 seconds\n",
      "completed 400 traces in\t13.431206703186035 seconds\n",
      "completed 500 traces in\t17.003799438476562 seconds\n",
      "completed 600 traces in\t20.59085702896118 seconds\n",
      "completed 700 traces in\t24.103423595428467 seconds\n",
      "completed 800 traces in\t27.748060941696167 seconds\n",
      "completed 900 traces in\t31.418708086013794 seconds\n",
      "completed 1000 traces in\t35.18981170654297 seconds\n",
      "capturing traces finished in 35.18981170654297 seconds!\n"
     ]
    }
   ],
   "source": [
    "start = time.time()\n",
    "completed_counter = 0\n",
    "for i in range(num_traces):\n",
    "    cmd_data = float_to_bytearray_32bit_little_edian(input_vals[i])\n",
    "    \n",
    "    trace_wave = capture_trace(cmd_data=cmd_data, prints=False)\n",
    "    trace = cw.Trace(wave=trace_wave, textin=input_vals[i], textout=None, key=None)\n",
    "    proj.traces.append(trace)\n",
    "    \n",
    "    completed_counter += 1\n",
    "    if completed_counter % 100 == 0: \n",
    "        print(f'completed {completed_counter} traces in\\t{time.time() - start} seconds' )\n",
    "\n",
    "end = time.time()\n",
    "print(f'capturing traces finished in {end - start} seconds!')"
   ]
  },
  {
   "cell_type": "code",
   "execution_count": 21,
   "id": "0937b8d3",
   "metadata": {},
   "outputs": [],
   "source": [
    "proj.save()\n",
    "proj.close()"
   ]
  },
  {
   "cell_type": "code",
   "execution_count": 22,
   "id": "8e18d4ea",
   "metadata": {},
   "outputs": [],
   "source": [
    "proj = cw.open_project(proj_dir + proj_name)"
   ]
  },
  {
   "cell_type": "code",
   "execution_count": 23,
   "id": "45c64310",
   "metadata": {},
   "outputs": [
    {
     "name": "stdout",
     "output_type": "stream",
     "text": [
      "1000\n"
     ]
    }
   ],
   "source": [
    "print(len(proj.traces))"
   ]
  },
  {
   "cell_type": "code",
   "execution_count": null,
   "id": "cab85441",
   "metadata": {},
   "outputs": [],
   "source": []
  }
 ],
 "metadata": {
  "kernelspec": {
   "display_name": "Python 3 (ipykernel)",
   "language": "python",
   "name": "python3"
  },
  "language_info": {
   "codemirror_mode": {
    "name": "ipython",
    "version": 3
   },
   "file_extension": ".py",
   "mimetype": "text/x-python",
   "name": "python",
   "nbconvert_exporter": "python",
   "pygments_lexer": "ipython3",
   "version": "3.10.8"
  }
 },
 "nbformat": 4,
 "nbformat_minor": 5
}

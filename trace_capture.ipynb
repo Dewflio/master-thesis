{
 "cells": [
  {
   "cell_type": "markdown",
   "id": "c9423399",
   "metadata": {},
   "source": [
    "### Imports"
   ]
  },
  {
   "cell_type": "code",
   "execution_count": null,
   "id": "e3f10ad1",
   "metadata": {},
   "outputs": [],
   "source": [
    "import chipwhisperer as cw\n",
    "import matplotlib.pyplot as plt\n",
    "import numpy as np\n",
    "import time\n",
    "import struct\n",
    "import random\n",
    "\n",
    "from scipy.signal import find_peaks"
   ]
  },
  {
   "cell_type": "markdown",
   "id": "d76aa78b",
   "metadata": {},
   "source": [
    "### Function Definitions"
   ]
  },
  {
   "cell_type": "code",
   "execution_count": null,
   "id": "09958b5f",
   "metadata": {},
   "outputs": [],
   "source": [
    "def random_float(min_val, max_val):\n",
    "    # Generate a random float between min_val and max_val\n",
    "    rand_float = random.uniform(min_val, max_val)\n",
    "    # Round to 2 decimal places\n",
    "    return round(rand_float, 2)"
   ]
  },
  {
   "cell_type": "code",
   "execution_count": null,
   "id": "c631e85a",
   "metadata": {},
   "outputs": [],
   "source": [
    "def float_to_bytearray_32bit_little_edian(f):\n",
    "    # Pack the float as a 32-bit (4-byte) IEEE 754 floating point number\n",
    "    packed = struct.pack('f', f)\n",
    "    # Convert to bytearray\n",
    "    return bytearray(packed)"
   ]
  },
  {
   "cell_type": "code",
   "execution_count": null,
   "id": "237e36fa",
   "metadata": {},
   "outputs": [],
   "source": [
    "def scope_setup(samples=24431, decimate=1):\n",
    "    # arm the scope\n",
    "    scope.arm()\n",
    "    \n",
    "    # Set the maximum number of points in a trace\n",
    "    scope.adc.fifo_fill_mode = \"normal\"\n",
    "    scope.adc.samples = samples\n",
    "    scope.adc.decimate = decimate"
   ]
  },
  {
   "cell_type": "code",
   "execution_count": null,
   "id": "b354493b",
   "metadata": {},
   "outputs": [],
   "source": [
    "def capture_trace(cmd_data, cmd='p', scmd=128, prints=True):\n",
    "    scope.arm()\n",
    "    # flush the UART buffer\n",
    "    target.flush()\n",
    "    \n",
    "    target.send_cmd(cmd, scmd, cmd_data)\n",
    "    ret = scope.capture()\n",
    "    trace = scope.get_last_trace()\n",
    "    \n",
    "    returned_data = target.read_cmd('r')\n",
    "    ack = target.read_cmd('e')\n",
    "    if prints:\n",
    "        print(f'r\\t- target.read_cmd(\"r\"):\\t{returned_data}')\n",
    "        print(f'ack\\t- target.read_cmd(\"e\"):\\t{ack}')\n",
    "    return trace\n",
    "    "
   ]
  },
  {
   "cell_type": "code",
   "execution_count": null,
   "id": "1cacc05e",
   "metadata": {},
   "outputs": [],
   "source": [
    "def plot_trace(trace, vlines=[], save=False, fig_name='figure.svg'):\n",
    "    # Plot the trace\n",
    "    plt.plot(trace, linewidth=0.8)\n",
    "    if len(vlines) > 0:\n",
    "        plt.vlines(vlines, -0.3, 0.2, colors='red')\n",
    "    if save:\n",
    "        plt.savefig(fig_name, format='svg')\n",
    "    plt.show()"
   ]
  },
  {
   "cell_type": "code",
   "execution_count": null,
   "id": "c53a48cd",
   "metadata": {},
   "outputs": [],
   "source": [
    "def filter_peaks(arr, old_idxs, level):\n",
    "    \n",
    "    if level > 0: \n",
    "        a = np.array(arr, dtype=np.float32)\n",
    "        indices, props = find_peaks(a)\n",
    "        \n",
    "        peak_arr = []\n",
    "        new_idxs = []\n",
    "        for idx in indices:\n",
    "            peak_arr.append(arr[idx])\n",
    "            new_idxs.append(old_idxs[idx])\n",
    "        \n",
    "        filtered_indices = filter_peaks(peak_arr, new_idxs, level - 1)\n",
    "        return filtered_indices\n",
    "    else:\n",
    "        return old_idxs"
   ]
  },
  {
   "cell_type": "code",
   "execution_count": null,
   "id": "3a8ed43d",
   "metadata": {},
   "outputs": [],
   "source": [
    "def find_local_maxima(trace, levels):\n",
    "    original_indices = []\n",
    "    for i in range(len(trace)):\n",
    "        original_indices.append(i)\n",
    "    return filter_peaks(trace, original_indices, levels)\n",
    "    \n"
   ]
  },
  {
   "cell_type": "markdown",
   "id": "9d6305e4",
   "metadata": {},
   "source": [
    "### Target Setup"
   ]
  },
  {
   "cell_type": "code",
   "execution_count": null,
   "id": "7240f8d8",
   "metadata": {},
   "outputs": [],
   "source": [
    "#Scope setup\n",
    "scope = cw.scope()\n",
    "scope.default_setup()\n",
    "\n",
    "target = cw.target(scope, cw.targets.SimpleSerial2) #cw.targets.SimpleSerial can be omitted\n",
    "#MY CHANGES - changed target to SimpleSerial2 - to be able to send_cmd"
   ]
  },
  {
   "cell_type": "code",
   "execution_count": null,
   "id": "22f585db",
   "metadata": {},
   "outputs": [],
   "source": [
    "scope_setup(samples=24430, decimate=1)"
   ]
  },
  {
   "cell_type": "code",
   "execution_count": null,
   "id": "de313acd",
   "metadata": {},
   "outputs": [],
   "source": [
    "%%bash\n",
    "cd version_02/\n",
    "make PLATFORM='CWLITEARM' CRYPTO_TARGET=NONE"
   ]
  },
  {
   "cell_type": "code",
   "execution_count": null,
   "id": "8bc64fac",
   "metadata": {},
   "outputs": [],
   "source": [
    "cw.program_target(scope, cw.programmers.STM32FProgrammer, \"version_02/simpleserial-target-CWLITEARM.hex\")"
   ]
  },
  {
   "cell_type": "markdown",
   "id": "f61c9dac",
   "metadata": {},
   "source": [
    "### Trace Capture Test"
   ]
  },
  {
   "cell_type": "code",
   "execution_count": null,
   "id": "68bd46b2",
   "metadata": {},
   "outputs": [],
   "source": [
    "float_val = -0.213222\n",
    "float_bytearray = float_to_bytearray_32bit_little_edian(float_val)\n",
    "\n",
    "print(float_bytearray)\n",
    "\n",
    "trace_wave = capture_trace(float_bytearray, scmd=0)\n",
    "trace = cw.Trace(wave=trace_wave, textin=float_val, textout=None, key=None)"
   ]
  },
  {
   "cell_type": "code",
   "execution_count": null,
   "id": "283b42c0",
   "metadata": {},
   "outputs": [],
   "source": [
    "peak_indices = find_local_maxima(trace_wave, 6)\n",
    "print(len(peak_indices))\n",
    "print(peak_indices)"
   ]
  },
  {
   "cell_type": "code",
   "execution_count": null,
   "id": "a86dd82c",
   "metadata": {},
   "outputs": [],
   "source": [
    "plot_trace(trace_wave, vlines=peak_indices)\n"
   ]
  },
  {
   "cell_type": "code",
   "execution_count": null,
   "id": "dd0d243e",
   "metadata": {},
   "outputs": [],
   "source": [
    "plot_trace(trace_wave[:19650], vlines=[], save=False, fig_name=\"./trace_figures/full_network_dummy_ops_last_layer_cutoff.svg\")"
   ]
  },
  {
   "cell_type": "code",
   "execution_count": null,
   "id": "b4766116",
   "metadata": {},
   "outputs": [],
   "source": [
    "full_network = trace_wave[:19650]\n",
    "print(len(full_network))\n",
    "try: \n",
    "    f = open(\"./trace_figures/full_network.txt\", \"w\")\n",
    "    f.write(\"x y\\n\")\n",
    "    for i in range(len(full_network)):\n",
    "        f.write(f'{i} {full_network[i]}\\n')\n",
    "    f.close()\n",
    "except(error):\n",
    "    print(f'Failed to write full network to file - {error}')\n",
    "    "
   ]
  },
  {
   "cell_type": "markdown",
   "id": "866c455f",
   "metadata": {},
   "source": [
    "### Initialize the project\n",
    "\n",
    "The Chipwhisperer `Project` class can be used to keep a collection of traces. "
   ]
  },
  {
   "cell_type": "code",
   "execution_count": null,
   "id": "cc267ea6",
   "metadata": {},
   "outputs": [],
   "source": [
    "proj_dir = \"./cw_projects/\"\n",
    "proj_name = \"deranged_protected_w5_random_inputs\"\n",
    "scmd_val = 1\n",
    "\n",
    "#project-01\n",
    "num_traces = 10000\n",
    "min_in_val = -2\n",
    "max_in_val = 2"
   ]
  },
  {
   "cell_type": "code",
   "execution_count": null,
   "id": "1e983fab",
   "metadata": {},
   "outputs": [],
   "source": [
    "proj = cw.create_project(proj_dir + proj_name)"
   ]
  },
  {
   "cell_type": "code",
   "execution_count": null,
   "id": "9d6512e2",
   "metadata": {},
   "outputs": [],
   "source": [
    "input_vals = []\n",
    "\n",
    "for i in range(num_traces):\n",
    "    input_vals.append(random.uniform(min_in_val, max_in_val))\n",
    "\n",
    "\n",
    "print(max(input_vals))\n",
    "print(min(input_vals))\n",
    "print(len(input_vals))"
   ]
  },
  {
   "cell_type": "code",
   "execution_count": null,
   "id": "d848b07c",
   "metadata": {},
   "outputs": [],
   "source": [
    "start = time.time()\n",
    "completed_counter = 0\n",
    "for i in range(num_traces):\n",
    "    cmd_data = float_to_bytearray_32bit_little_edian(input_vals[i])\n",
    "    \n",
    "    trace_wave = capture_trace(cmd_data=cmd_data, scmd=scmd_val, prints=False)\n",
    "    trace = cw.Trace(wave=trace_wave, textin=input_vals[i], textout=None, key=None)\n",
    "    proj.traces.append(trace)\n",
    "    \n",
    "    completed_counter += 1\n",
    "    if completed_counter % 100 == 0: \n",
    "        print(f'completed {completed_counter} traces in\\t{time.time() - start} seconds' )\n",
    "\n",
    "end = time.time()\n",
    "print(f'capturing traces finished in {end - start} seconds!')"
   ]
  },
  {
   "cell_type": "code",
   "execution_count": null,
   "id": "0937b8d3",
   "metadata": {},
   "outputs": [],
   "source": [
    "proj.save()\n",
    "proj.close()"
   ]
  },
  {
   "cell_type": "code",
   "execution_count": null,
   "id": "8e18d4ea",
   "metadata": {},
   "outputs": [],
   "source": [
    "proj = cw.open_project(proj_dir + proj_name)"
   ]
  },
  {
   "cell_type": "code",
   "execution_count": null,
   "id": "45c64310",
   "metadata": {},
   "outputs": [],
   "source": [
    "print(len(proj.traces))"
   ]
  },
  {
   "cell_type": "code",
   "execution_count": null,
   "id": "cab85441",
   "metadata": {},
   "outputs": [],
   "source": [
    "proj.close()"
   ]
  }
 ],
 "metadata": {
  "kernelspec": {
   "display_name": "Python 3 (ipykernel)",
   "language": "python",
   "name": "python3"
  },
  "language_info": {
   "codemirror_mode": {
    "name": "ipython",
    "version": 3
   },
   "file_extension": ".py",
   "mimetype": "text/x-python",
   "name": "python",
   "nbconvert_exporter": "python",
   "pygments_lexer": "ipython3",
   "version": "3.10.8"
  }
 },
 "nbformat": 4,
 "nbformat_minor": 5
}

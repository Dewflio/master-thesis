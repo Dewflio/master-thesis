{
 "cells": [
  {
   "cell_type": "markdown",
   "id": "ba3d2f8b",
   "metadata": {},
   "source": [
    "### Imports"
   ]
  },
  {
   "cell_type": "code",
   "execution_count": 1,
   "id": "ff98de39",
   "metadata": {},
   "outputs": [],
   "source": [
    "import chipwhisperer as cw\n",
    "import matplotlib.pyplot as plt\n",
    "import numpy as np\n",
    "import struct\n",
    "import time\n",
    "from decimal import Decimal\n",
    "from concurrent.futures import ProcessPoolExecutor, as_completed"
   ]
  },
  {
   "cell_type": "markdown",
   "id": "69a4e2cd",
   "metadata": {},
   "source": [
    "### Function Definitions"
   ]
  },
  {
   "cell_type": "code",
   "execution_count": 2,
   "id": "ed554ce0",
   "metadata": {},
   "outputs": [],
   "source": [
    "def float_to_binary_str(f):\n",
    "    # Pack the float into 4 bytes (32-bit) using IEEE 754 standard\n",
    "    [packed] = struct.unpack('!I', struct.pack('!f', f))\n",
    "    # Convert the packed number to a binary string\n",
    "    return f\"{packed:032b}\""
   ]
  },
  {
   "cell_type": "code",
   "execution_count": 3,
   "id": "32b420b1",
   "metadata": {},
   "outputs": [],
   "source": [
    "def HW_float32(f):\n",
    "    # Get the binary representation of the 32-bit float\n",
    "    binary_str = float_to_binary_str(f)\n",
    "    # Count and return the number of '1' bits\n",
    "    return binary_str.count('1')"
   ]
  },
  {
   "cell_type": "code",
   "execution_count": 4,
   "id": "69f8b0e2",
   "metadata": {},
   "outputs": [],
   "source": [
    "def get_weights_arr():\n",
    "    weights_arr = []\n",
    "    w_val = Decimal('-2.0')\n",
    "    step = Decimal('0.01')\n",
    "    for i in range (401):\n",
    "        weights_arr.append(float(w_val))\n",
    "        w_val += step\n",
    "    return weights_arr"
   ]
  },
  {
   "cell_type": "code",
   "execution_count": 5,
   "id": "4f856cbb",
   "metadata": {},
   "outputs": [
    {
     "name": "stdout",
     "output_type": "stream",
     "text": [
      "00111111001010000011000100100111\n",
      "15\n"
     ]
    }
   ],
   "source": [
    "print(float_to_binary_str(0.657))\n",
    "print(HW_float32(0.657))"
   ]
  },
  {
   "cell_type": "code",
   "execution_count": 6,
   "id": "831af7d6",
   "metadata": {},
   "outputs": [],
   "source": [
    "def wrapped_CPA_attack(trace_waves, inputs, weights, time_sample_index):\n",
    "    result = CPA_attack(trace_waves, inputs, weights, time_sample_index)\n",
    "    return result, time_sample_index"
   ]
  },
  {
   "cell_type": "code",
   "execution_count": 7,
   "id": "8ef70342",
   "metadata": {},
   "outputs": [],
   "source": [
    "def CPA_attack(trace_waves, inputs, weights, time_sample_index):\n",
    "    r_abs = []\n",
    "    n_trace_waves = len(trace_waves)\n",
    "    leakage_sum = 0\n",
    "    for trace_wave in trace_waves:\n",
    "        leakage_sum += trace_wave[time_sample_index]    \n",
    "    average_leakage = leakage_sum / n_trace_waves\n",
    "    M = len(inputs)\n",
    "    N = len(weights)\n",
    "    \n",
    "    for i in range(N):\n",
    "        hypothetical_products = []\n",
    "        hypothetical_leakages = []\n",
    "        hypothetical_leakage_sum = 0\n",
    "        for j in range(M):\n",
    "            hypothetical_product = weights[i] * inputs[j]\n",
    "            hypothetical_products.append(hypothetical_product)\n",
    "            hypothetical_leakage = HW_float32(hypothetical_product)\n",
    "            hypothetical_leakages.append(hypothetical_leakage)\n",
    "            hypothetical_leakage_sum += hypothetical_leakage\n",
    "            \n",
    "        average_hypothetical_leakage = hypothetical_leakage_sum / M        \n",
    "        \n",
    "        numerator= 0\n",
    "        denominator1 = 0\n",
    "        denominator2 = 0\n",
    "        for j in range(M):\n",
    "            numerator += (hypothetical_leakages[j] - average_hypothetical_leakage) * (trace_waves[j][time_sample_index] - average_leakage)\n",
    "            denominator1 += (hypothetical_leakages[j] - average_hypothetical_leakage)**2\n",
    "            denominator2 += (trace_waves[j][time_sample_index] - average_leakage)**2\n",
    "            #print(f'Input {inputs[j]} with idx {j}, weight {weights[i]} with idx {i} -> hypothetical_product = {hypothetical_products[j]}' +\n",
    "            #     f' hypothetical_leakage = {hypothetical_leakages[j]}')\n",
    "        denominator1 = denominator1**(1/2)\n",
    "        denominator2 = denominator2**(1/2)\n",
    "        #print(numerator, denominator1, denominator2)\n",
    "        \n",
    "        corr_coef = numerator / (denominator1 * denominator2)\n",
    "        r_abs.append(abs(corr_coef))\n",
    "    return r_abs\n",
    "        \n",
    "            \n",
    "            \n",
    "            "
   ]
  },
  {
   "cell_type": "markdown",
   "id": "e4f14ebb",
   "metadata": {},
   "source": [
    "### Project Setup"
   ]
  },
  {
   "cell_type": "code",
   "execution_count": 8,
   "id": "b72aaa4c",
   "metadata": {},
   "outputs": [],
   "source": [
    "proj = cw.open_project('project-06')"
   ]
  },
  {
   "cell_type": "code",
   "execution_count": 9,
   "id": "b26e54bf",
   "metadata": {},
   "outputs": [
    {
     "name": "stdout",
     "output_type": "stream",
     "text": [
      "2000\n",
      "2000\n"
     ]
    }
   ],
   "source": [
    "trace_waves_arr = []\n",
    "inputs_arr = []\n",
    "for trace in proj.traces:\n",
    "    trace_waves_arr.append(trace.wave)\n",
    "    inputs_arr.append(trace.textin)\n",
    "print(len(trace_waves_arr))\n",
    "print(len(inputs_arr))"
   ]
  },
  {
   "cell_type": "markdown",
   "id": "be87f7b1",
   "metadata": {},
   "source": [
    "#### Test inputs "
   ]
  },
  {
   "cell_type": "code",
   "execution_count": 10,
   "id": "4be37ba7",
   "metadata": {},
   "outputs": [],
   "source": [
    "\n",
    "test_inputs = [0.5, 0.657, 0.3333, 0.0003, 0.189, 0.5243, 0.2222, 0.4959]\n",
    "test_trace_waves = trace_waves_arr[:8]\n",
    "test_weights = [0.21, 0.22, 0.23]\n",
    "test_time_sample_index = 5"
   ]
  },
  {
   "cell_type": "code",
   "execution_count": 11,
   "id": "fd4b4c4f",
   "metadata": {},
   "outputs": [
    {
     "data": {
      "text/plain": [
       "[0.08799967855586352, 0.23679642799106917, 0.5480060249106488]"
      ]
     },
     "execution_count": 11,
     "metadata": {},
     "output_type": "execute_result"
    }
   ],
   "source": [
    "CPA_attack(trace_waves = test_trace_waves,\n",
    "           inputs = test_inputs,\n",
    "           weights = test_weights,\n",
    "           time_sample_index = test_time_sample_index)"
   ]
  },
  {
   "cell_type": "markdown",
   "id": "37a64fcb",
   "metadata": {},
   "source": [
    "#### Generating a weight array - allways the same"
   ]
  },
  {
   "cell_type": "code",
   "execution_count": 12,
   "id": "a1e7c88e",
   "metadata": {},
   "outputs": [
    {
     "name": "stdout",
     "output_type": "stream",
     "text": [
      "[-2.0, -1.99, -1.98, -1.97, -1.96, -1.95, -1.94, -1.93, -1.92, -1.91, -1.9, -1.89, -1.88, -1.87, -1.86, -1.85, -1.84, -1.83, -1.82, -1.81, -1.8, -1.79, -1.78, -1.77, -1.76, -1.75, -1.74, -1.73, -1.72, -1.71, -1.7, -1.69, -1.68, -1.67, -1.66, -1.65, -1.64, -1.63, -1.62, -1.61, -1.6, -1.59, -1.58, -1.57, -1.56, -1.55, -1.54, -1.53, -1.52, -1.51, -1.5, -1.49, -1.48, -1.47, -1.46, -1.45, -1.44, -1.43, -1.42, -1.41, -1.4, -1.39, -1.38, -1.37, -1.36, -1.35, -1.34, -1.33, -1.32, -1.31, -1.3, -1.29, -1.28, -1.27, -1.26, -1.25, -1.24, -1.23, -1.22, -1.21, -1.2, -1.19, -1.18, -1.17, -1.16, -1.15, -1.14, -1.13, -1.12, -1.11, -1.1, -1.09, -1.08, -1.07, -1.06, -1.05, -1.04, -1.03, -1.02, -1.01, -1.0, -0.99, -0.98, -0.97, -0.96, -0.95, -0.94, -0.93, -0.92, -0.91, -0.9, -0.89, -0.88, -0.87, -0.86, -0.85, -0.84, -0.83, -0.82, -0.81, -0.8, -0.79, -0.78, -0.77, -0.76, -0.75, -0.74, -0.73, -0.72, -0.71, -0.7, -0.69, -0.68, -0.67, -0.66, -0.65, -0.64, -0.63, -0.62, -0.61, -0.6, -0.59, -0.58, -0.57, -0.56, -0.55, -0.54, -0.53, -0.52, -0.51, -0.5, -0.49, -0.48, -0.47, -0.46, -0.45, -0.44, -0.43, -0.42, -0.41, -0.4, -0.39, -0.38, -0.37, -0.36, -0.35, -0.34, -0.33, -0.32, -0.31, -0.3, -0.29, -0.28, -0.27, -0.26, -0.25, -0.24, -0.23, -0.22, -0.21, -0.2, -0.19, -0.18, -0.17, -0.16, -0.15, -0.14, -0.13, -0.12, -0.11, -0.1, -0.09, -0.08, -0.07, -0.06, -0.05, -0.04, -0.03, -0.02, -0.01, 0.0, 0.01, 0.02, 0.03, 0.04, 0.05, 0.06, 0.07, 0.08, 0.09, 0.1, 0.11, 0.12, 0.13, 0.14, 0.15, 0.16, 0.17, 0.18, 0.19, 0.2, 0.21, 0.22, 0.23, 0.24, 0.25, 0.26, 0.27, 0.28, 0.29, 0.3, 0.31, 0.32, 0.33, 0.34, 0.35, 0.36, 0.37, 0.38, 0.39, 0.4, 0.41, 0.42, 0.43, 0.44, 0.45, 0.46, 0.47, 0.48, 0.49, 0.5, 0.51, 0.52, 0.53, 0.54, 0.55, 0.56, 0.57, 0.58, 0.59, 0.6, 0.61, 0.62, 0.63, 0.64, 0.65, 0.66, 0.67, 0.68, 0.69, 0.7, 0.71, 0.72, 0.73, 0.74, 0.75, 0.76, 0.77, 0.78, 0.79, 0.8, 0.81, 0.82, 0.83, 0.84, 0.85, 0.86, 0.87, 0.88, 0.89, 0.9, 0.91, 0.92, 0.93, 0.94, 0.95, 0.96, 0.97, 0.98, 0.99, 1.0, 1.01, 1.02, 1.03, 1.04, 1.05, 1.06, 1.07, 1.08, 1.09, 1.1, 1.11, 1.12, 1.13, 1.14, 1.15, 1.16, 1.17, 1.18, 1.19, 1.2, 1.21, 1.22, 1.23, 1.24, 1.25, 1.26, 1.27, 1.28, 1.29, 1.3, 1.31, 1.32, 1.33, 1.34, 1.35, 1.36, 1.37, 1.38, 1.39, 1.4, 1.41, 1.42, 1.43, 1.44, 1.45, 1.46, 1.47, 1.48, 1.49, 1.5, 1.51, 1.52, 1.53, 1.54, 1.55, 1.56, 1.57, 1.58, 1.59, 1.6, 1.61, 1.62, 1.63, 1.64, 1.65, 1.66, 1.67, 1.68, 1.69, 1.7, 1.71, 1.72, 1.73, 1.74, 1.75, 1.76, 1.77, 1.78, 1.79, 1.8, 1.81, 1.82, 1.83, 1.84, 1.85, 1.86, 1.87, 1.88, 1.89, 1.9, 1.91, 1.92, 1.93, 1.94, 1.95, 1.96, 1.97, 1.98, 1.99, 2.0]\n"
     ]
    }
   ],
   "source": [
    "weights_arr = []\n",
    "w_val = Decimal('-2.0')\n",
    "step = Decimal('0.01')\n",
    "for i in range (401):\n",
    "    weights_arr.append(float(w_val))\n",
    "    w_val += step\n",
    "print(weights_arr)\n"
   ]
  },
  {
   "cell_type": "code",
   "execution_count": 13,
   "id": "8c5cfff5",
   "metadata": {},
   "outputs": [
    {
     "data": {
      "text/plain": [
       "[0.14363074231495296,\n",
       " 0.021314037311415648,\n",
       " 0.022032151757364823,\n",
       " 0.030037239404168636,\n",
       " 0.015032801857995208,\n",
       " 0.009294187723480746,\n",
       " 0.018993495351944095,\n",
       " 0.006769962579041124,\n",
       " 0.020545360130552144,\n",
       " 0.030539164904880404,\n",
       " 0.016533300568582914,\n",
       " 0.012589224070304885,\n",
       " 0.016371335705602782,\n",
       " 0.0068442126346084315,\n",
       " 0.028214427520304737,\n",
       " 0.014748050893643257,\n",
       " 0.010161375653263563,\n",
       " 0.01885136669127515,\n",
       " 0.017671721221972136,\n",
       " 0.016395184651726895,\n",
       " 0.04493411707204438,\n",
       " 0.0015609462016217684,\n",
       " 0.0022335190882233485,\n",
       " 0.018309006749693227,\n",
       " 0.006387354834174631,\n",
       " 0.01677737096508561,\n",
       " 0.005995590521807647,\n",
       " 0.0163848442389738,\n",
       " 0.021606022002382198,\n",
       " 0.029512512433350988,\n",
       " 0.009792722364225194,\n",
       " 0.021771495072824706,\n",
       " 0.007733091282346574,\n",
       " 0.04272443265624495,\n",
       " 0.008380759975599339,\n",
       " 0.02818021629315738,\n",
       " 0.02440439716699824,\n",
       " 0.01963064638749918,\n",
       " 0.02971954316765434,\n",
       " 0.018767842189079516,\n",
       " 0.04694623532384933,\n",
       " 0.02894708642535457,\n",
       " 0.00030505255792329263,\n",
       " 0.015814764781097255,\n",
       " 0.028277589694752994,\n",
       " 0.001383016748465901,\n",
       " 0.004105006503836961,\n",
       " 0.021872588526244182,\n",
       " 0.047723708952539384,\n",
       " 0.029822638353720145,\n",
       " 0.0494380904427706,\n",
       " 0.03825243863937146,\n",
       " 0.0006960221477547258,\n",
       " 0.05091956081994847,\n",
       " 0.012017042338813363,\n",
       " 0.009413375090953488,\n",
       " 0.04156944273737984,\n",
       " 0.0018611293508405803,\n",
       " 0.006401023357902121,\n",
       " 0.024665156064267665,\n",
       " 0.004369391932270215,\n",
       " 0.0024994703835595766,\n",
       " 0.0563028115267147,\n",
       " 0.04806188165949917,\n",
       " 0.03856349449954959,\n",
       " 0.031192592993496186,\n",
       " 0.04867618147856154,\n",
       " 0.02112608292190849,\n",
       " 0.012478091394557737,\n",
       " 0.02078127826943266,\n",
       " 0.011767808566085182,\n",
       " 0.027793833881822962,\n",
       " 0.050580113453052994,\n",
       " 0.05308760946571839,\n",
       " 0.021843125780527335,\n",
       " 0.08968673772274205,\n",
       " 0.014474134756861181,\n",
       " 0.021363691583124147,\n",
       " 0.03724465104094274,\n",
       " 0.004318240034582754,\n",
       " 0.01820183905354105,\n",
       " 0.019033770936907744,\n",
       " 0.006058951423736189,\n",
       " 0.008879413747848092,\n",
       " 0.06445683557965283,\n",
       " 0.04736775341138855,\n",
       " 0.023643009202848,\n",
       " 0.017827879600577808,\n",
       " 0.05518252427312983,\n",
       " 0.03397391277804509,\n",
       " 0.02677989352485556,\n",
       " 0.04594852482253379,\n",
       " 0.032271300442788635,\n",
       " 0.030372460293299906,\n",
       " 0.03663247217699133,\n",
       " 0.06156252810340827,\n",
       " 0.04492813153785338,\n",
       " 0.01159906459298075,\n",
       " 0.09299709189841095,\n",
       " 0.08303768993387202,\n",
       " 0.18593837860104345,\n",
       " 0.06883459880704236,\n",
       " 0.061660261103069575,\n",
       " 0.06751879027820884,\n",
       " 0.06897759473161595,\n",
       " 0.0638451252296418,\n",
       " 0.06068911628471804,\n",
       " 0.07363726477642014,\n",
       " 0.05240736673381457,\n",
       " 0.023241823234181454,\n",
       " 0.08336165748302247,\n",
       " 0.03412718252774219,\n",
       " 0.029598734913095375,\n",
       " 0.04057121961866485,\n",
       " 0.056466648689528186,\n",
       " 0.02211099050686232,\n",
       " 0.03286045492874739,\n",
       " 0.023649698754361823,\n",
       " 0.04368672661016356,\n",
       " 0.03789911938143495,\n",
       " 0.055090567931555735,\n",
       " 0.010716130433716421,\n",
       " 0.033834856441259144,\n",
       " 0.00794288068301322,\n",
       " 0.04416788987507666,\n",
       " 0.04328097935028303,\n",
       " 0.002512308677388567,\n",
       " 0.013359031067002208,\n",
       " 0.04038390241506629,\n",
       " 0.009111918545734508,\n",
       " 0.0038208093649107263,\n",
       " 0.04441303681891816,\n",
       " 0.02264299088980569,\n",
       " 0.03095825863030207,\n",
       " 0.004736763803697734,\n",
       " 0.009159516145529189,\n",
       " 0.02615361510828899,\n",
       " 0.0045173344489596095,\n",
       " 0.008123863383154219,\n",
       " 0.00856643698777744,\n",
       " 0.0034317555260341233,\n",
       " 0.015476633257033265,\n",
       " 0.0343113096055641,\n",
       " 0.004767204774688703,\n",
       " 0.017211649998384888,\n",
       " 0.005690922184157836,\n",
       " 0.005656238295506895,\n",
       " 0.0140596765808532,\n",
       " 0.017250004204043216,\n",
       " 0.05391418821260361,\n",
       " 0.12916734373883088,\n",
       " 0.02257762014244869,\n",
       " 0.026325483468256288,\n",
       " 0.02053937106080195,\n",
       " 0.010689220096910578,\n",
       " 0.04137960537084408,\n",
       " 0.006054100323196367,\n",
       " 0.01863859811238732,\n",
       " 0.0020320885648719682,\n",
       " 0.016227677477048116,\n",
       " 0.028692854904058103,\n",
       " 0.010248512608028715,\n",
       " 0.023341668716768606,\n",
       " 0.014543003745935857,\n",
       " 0.021031511636389055,\n",
       " 0.012053455548887832,\n",
       " 0.01479355939126535,\n",
       " 0.01348489461090702,\n",
       " 0.007497293778530143,\n",
       " 0.022507990740420883,\n",
       " 0.02492970847160751,\n",
       " 0.01139551322001969,\n",
       " 0.005971372331063392,\n",
       " 0.013711359535271936,\n",
       " 0.004867102670693708,\n",
       " 0.0994618856065171,\n",
       " 0.005952104979050564,\n",
       " 0.014136211517998242,\n",
       " 0.039749797025153924,\n",
       " 0.025636018867590628,\n",
       " 0.0008578124800563789,\n",
       " 0.006913006474332317,\n",
       " 0.012151592298020071,\n",
       " 0.012854726644544493,\n",
       " 0.010145962094637426,\n",
       " 0.03668002836270982,\n",
       " 0.02166847316684169,\n",
       " 0.005772582325456493,\n",
       " 0.0041810894905592085,\n",
       " 0.024107986167485072,\n",
       " 0.015565207445498077,\n",
       " 0.0077726039237461485,\n",
       " 0.00855302442566917,\n",
       " 0.006427628784606876,\n",
       " 0.012631580338048646,\n",
       " 0.016763027615357626,\n",
       " 0.002773777307971225,\n",
       " 0.0010687220249607486,\n",
       " 0.0024847710675817503,\n",
       " 0.004173092016875127,\n",
       " 0.05516926632021317,\n",
       " 0.025885997977115986,\n",
       " 0.024743851806837733,\n",
       " 0.022929738393278408,\n",
       " 0.02511389243012572,\n",
       " 0.038528145461212984,\n",
       " 0.034770717679711335,\n",
       " 0.028780720459197544,\n",
       " 0.030505000716895457,\n",
       " 0.031002805998745258,\n",
       " 0.03695869535360903,\n",
       " 0.007043918998183412,\n",
       " 0.011338261952110589,\n",
       " 0.008885087416260642,\n",
       " 0.007278028915799334,\n",
       " 0.02216828078354838,\n",
       " 0.004471469457003669,\n",
       " 0.001572270160739371,\n",
       " 0.002611676796474725,\n",
       " 0.007762443132573927,\n",
       " 0.013918173002262581,\n",
       " 0.010530134679665447,\n",
       " 0.024522365970822007,\n",
       " 0.0005569466803039002,\n",
       " 0.021116342536768168,\n",
       " 0.11443141421023849,\n",
       " 0.01047664402031609,\n",
       " 0.0012212114528737967,\n",
       " 0.021620951704979578,\n",
       " 0.027313390057271444,\n",
       " 0.009120183094739272,\n",
       " 0.006301866070420138,\n",
       " 0.023692529104137036,\n",
       " 0.0026996098517822475,\n",
       " 0.030955830119868893,\n",
       " 0.0044377703007010836,\n",
       " 0.03803673481026489,\n",
       " 0.0024097366729071553,\n",
       " 0.04006417065854572,\n",
       " 0.02726992147558701,\n",
       " 0.045687098615520706,\n",
       " 0.032927328474985376,\n",
       " 0.018809815105035328,\n",
       " 0.03596818544976979,\n",
       " 0.011349496586258388,\n",
       " 0.05868156172145308,\n",
       " 0.02765636877506361,\n",
       " 0.03772230306318537,\n",
       " 0.043573987411456946,\n",
       " 0.03982005941841644,\n",
       " 0.14648799534368123,\n",
       " 0.07148493470025243,\n",
       " 0.03416435164608143,\n",
       " 0.03168479896370915,\n",
       " 0.022679807693488156,\n",
       " 0.01191156346400744,\n",
       " 0.03481354191549244,\n",
       " 0.013006998790211935,\n",
       " 0.05217025066297072,\n",
       " 0.00285400167642454,\n",
       " 0.01482320297634332,\n",
       " 0.026429604681211943,\n",
       " 0.009829329393703816,\n",
       " 0.01361708640125587,\n",
       " 0.044379290640407486,\n",
       " 0.008803295995323358,\n",
       " 0.013933639452803211,\n",
       " 0.049434039777305004,\n",
       " 0.04070471311682181,\n",
       " 0.0640856190838275,\n",
       " 0.02241699704365752,\n",
       " 0.027517453163338042,\n",
       " 0.05968422912591656,\n",
       " 0.03274152341049145,\n",
       " 0.021901265354498427,\n",
       " 0.061999455327451145,\n",
       " 0.06275733362195435,\n",
       " 0.02693025866650028,\n",
       " 0.05318890086352167,\n",
       " 0.029890987072824383,\n",
       " 0.07420045702475841,\n",
       " 0.056828048467647566,\n",
       " 0.06269853403470138,\n",
       " 0.04204862360369464,\n",
       " 0.05146991555927773,\n",
       " 0.04158056601210352,\n",
       " 0.07572148471106582,\n",
       " 0.05906208208774829,\n",
       " 0.048737840732422176,\n",
       " 0.05335129144766037,\n",
       " 0.10281338989574129,\n",
       " 0.04218537061969308,\n",
       " 0.07221024193121789,\n",
       " 0.09293619877873315,\n",
       " 0.07992935888246373,\n",
       " 0.083191235177897,\n",
       " 0.08855911333675948,\n",
       " 0.08723606902893094,\n",
       " 0.08128601344239365,\n",
       " 0.08836855344567465,\n",
       " 0.20485635662524415,\n",
       " 0.10165687781483393,\n",
       " 0.11294875865702911,\n",
       " 0.03195439197300476,\n",
       " 0.06354472026303484,\n",
       " 0.08147848132733941,\n",
       " 0.05617889761746668,\n",
       " 0.05002356207620519,\n",
       " 0.05186618890133613,\n",
       " 0.06551300861324898,\n",
       " 0.04633573908038286,\n",
       " 0.05418951916120724,\n",
       " 0.07497091168979886,\n",
       " 0.03819572431816024,\n",
       " 0.043321554376705936,\n",
       " 0.06723285895882834,\n",
       " 0.08391892003407518,\n",
       " 0.028661687360709395,\n",
       " 0.026429754316684033,\n",
       " 0.039046352235481634,\n",
       " 0.038299921943448084,\n",
       " 0.015242551301939057,\n",
       " 0.056410025599329394,\n",
       " 0.04181044006805667,\n",
       " 0.03463346931604791,\n",
       " 0.10943831118899734,\n",
       " 0.042116585245542085,\n",
       " 0.0731363733735234,\n",
       " 0.06994711490144276,\n",
       " 0.04813653079955248,\n",
       " 0.031644490325830034,\n",
       " 0.04048590033032075,\n",
       " 0.033193910385609926,\n",
       " 0.04169140990954408,\n",
       " 0.06892502616304545,\n",
       " 0.05178316269799352,\n",
       " 0.05802917534046437,\n",
       " 0.06859401063426217,\n",
       " 0.07825020334400694,\n",
       " 0.02283698946864107,\n",
       " 0.025193162412886796,\n",
       " 0.04559925606167627,\n",
       " 0.02667094447063698,\n",
       " 0.02261401286847831,\n",
       " 0.06328063803875116,\n",
       " 0.029898941912649524,\n",
       " 0.03313157777699461,\n",
       " 0.07202768911822031,\n",
       " 0.021668974325512628,\n",
       " 0.05950846226752651,\n",
       " 0.06970365942543791,\n",
       " 0.05016152270606378,\n",
       " 0.06766698572540372,\n",
       " 0.04260454020430037,\n",
       " 0.02492265127324632,\n",
       " 0.019499066662983205,\n",
       " 0.04916233724520691,\n",
       " 0.036338432177939285,\n",
       " 0.021018439272090877,\n",
       " 0.049368349600865065,\n",
       " 0.06717551469375374,\n",
       " 0.038942651971814304,\n",
       " 0.050202796262768835,\n",
       " 0.0011593497632272664,\n",
       " 0.044551100103898324,\n",
       " 0.048112802146753494,\n",
       " 0.027645691611190303,\n",
       " 0.06264841769639752,\n",
       " 0.027584237096865315,\n",
       " 0.04179477044709276,\n",
       " 0.01040376576457113,\n",
       " 0.04862487193923402,\n",
       " 0.041710996428044066,\n",
       " 0.003444747559648865,\n",
       " 0.02552886471080808,\n",
       " 0.03647058138849498,\n",
       " 0.013912780639925494,\n",
       " 0.038606506267474,\n",
       " 0.01787485960321994,\n",
       " 0.018894398419677435,\n",
       " 0.06516998929044526,\n",
       " 0.036230850765242455,\n",
       " 0.0025832737109058,\n",
       " 0.03927506343702293,\n",
       " 0.030263733292045836,\n",
       " 0.03464116923128207,\n",
       " 0.0485996032245856,\n",
       " 0.013047166509201305,\n",
       " 0.03675253029876042,\n",
       " 0.03283739585079964,\n",
       " 0.036546942959340294,\n",
       " 0.05124277449224479,\n",
       " 0.04107741855030579,\n",
       " 0.026712786858013614,\n",
       " 0.03950178492280784,\n",
       " 0.010936626694640801,\n",
       " 0.035248308787800955,\n",
       " 0.04979217851259044,\n",
       " 0.04274773800466808,\n",
       " 0.042442347531381694,\n",
       " 0.1644868074160634]"
      ]
     },
     "execution_count": 13,
     "metadata": {},
     "output_type": "execute_result"
    }
   ],
   "source": [
    "CPA_attack(trace_waves = trace_waves_arr,\n",
    "           inputs = inputs_arr,\n",
    "           weights = weights_arr,\n",
    "           time_sample_index = 1)"
   ]
  },
  {
   "cell_type": "code",
   "execution_count": null,
   "id": "d2758cc6",
   "metadata": {},
   "outputs": [
    {
     "name": "stdout",
     "output_type": "stream",
     "text": [
      "Error during computation: A process in the process pool was terminated abruptly while the future was running or pending.\n",
      "A process in the process pool was terminated abruptly while the future was running or pending.\n",
      "Error during computation: A process in the process pool was terminated abruptly while the future was running or pending.\n",
      "A process in the process pool was terminated abruptly while the future was running or pending.\n",
      "Error during computation: A process in the process pool was terminated abruptly while the future was running or pending.\n",
      "A process in the process pool was terminated abruptly while the future was running or pending.\n",
      "Error during computation: A process in the process pool was terminated abruptly while the future was running or pending.\n",
      "A process in the process pool was terminated abruptly while the future was running or pending.\n",
      "Error during computation: A process in the process pool was terminated abruptly while the future was running or pending.\n",
      "A process in the process pool was terminated abruptly while the future was running or pending.\n",
      "Error during computation: A process in the process pool was terminated abruptly while the future was running or pending.\n",
      "A process in the process pool was terminated abruptly while the future was running or pending.\n",
      "Error during computation: A process in the process pool was terminated abruptly while the future was running or pending.\n",
      "A process in the process pool was terminated abruptly while the future was running or pending.\n",
      "Error during computation: A process in the process pool was terminated abruptly while the future was running or pending.\n",
      "A process in the process pool was terminated abruptly while the future was running or pending.\n",
      "Error during computation: A process in the process pool was terminated abruptly while the future was running or pending.\n",
      "A process in the process pool was terminated abruptly while the future was running or pending.\n",
      "Error during computation: A process in the process pool was terminated abruptly while the future was running or pending.\n",
      "A process in the process pool was terminated abruptly while the future was running or pending.\n"
     ]
    }
   ],
   "source": [
    "start = time.time()\n",
    "r_abs_all_time_samples = []\n",
    "start_time_sample = 400\n",
    "n_time_samples = 10\n",
    "completed_counter = 0\n",
    "\n",
    "\n",
    "num_threads = 8\n",
    "with ProcessPoolExecutor(max_workers=num_threads) as executor:\n",
    "    futures = [executor.submit(wrapped_CPA_attack, trace_waves_arr, inputs_arr, weights_arr, i) for i in range(start_time_sample, start_time_sample + n_time_samples)]\n",
    "    \n",
    "    results = [None] * (n_time_samples)\n",
    "    \n",
    "    for future in as_completed(futures):\n",
    "        try:\n",
    "            result, i = future.result()\n",
    "            results[i - start_time_sample] = result\n",
    "            completed_counter += 1\n",
    "            print(f\"{completed_counter} time samples completed\")\n",
    "        except Exception as e:\n",
    "            print(f\"Error during computation: {e}\")\n",
    "        \n",
    "r_abs_all_time_samples.extend(results)\n",
    "        \n",
    "end = time.time()\n",
    "print(f'Time elapsed: {end - start}')\n",
    "print(len(r_abs_all_time_samples))"
   ]
  },
  {
   "cell_type": "code",
   "execution_count": 15,
   "id": "5ee554fc",
   "metadata": {},
   "outputs": [
    {
     "name": "stdout",
     "output_type": "stream",
     "text": [
      "Time elapsed: 18.776531219482422\n",
      "4\n"
     ]
    }
   ],
   "source": [
    "start = time.time()\n",
    "r_abs_all_time_samples = []\n",
    "start_time_sample = 400\n",
    "n_time_samples = 4\n",
    "for i in range(start_time_sample, start_time_sample + n_time_samples):\n",
    "    r_abs_all_time_samples.append(CPA_attack(trace_waves = trace_waves_arr,\n",
    "           inputs = inputs_arr,\n",
    "           weights = weights_arr,\n",
    "           time_sample_index = i))\n",
    "    if ((i - start_time_sample + 1) % 100 == 0):\n",
    "        print(f\"{(i - start_time_sample) + 1} timesamlpes done! {time.time() - start} seconds elapsed!\")\n",
    "        \n",
    "end = time.time()\n",
    "print(f'Time elapsed: {end - start}')\n",
    "print(len(r_abs_all_time_samples))"
   ]
  },
  {
   "cell_type": "code",
   "execution_count": 21,
   "id": "55fb4b53",
   "metadata": {},
   "outputs": [],
   "source": [
    "corr_graphs = []\n",
    "\n",
    "for i in range(len(weights_arr)):\n",
    "    corr_graph = []\n",
    "    for u in range(4000):\n",
    "        corr_graph.append(r_abs_all_time_samples[u][i])\n",
    "    corr_graphs.append(corr_graph)"
   ]
  },
  {
   "cell_type": "code",
   "execution_count": 25,
   "id": "3dc644a5",
   "metadata": {},
   "outputs": [
    {
     "name": "stdout",
     "output_type": "stream",
     "text": [
      "212\n",
      "0.8396905035125037\n"
     ]
    }
   ],
   "source": [
    "max_corr = 0\n",
    "max_corr_index = 0\n",
    "for i in range(len(corr_graphs)):\n",
    "    if (max(corr_graphs[i]) > max_corr and i!=200):\n",
    "        max_corr = max(corr_graphs[i])\n",
    "        max_corr_index = i\n",
    "\n",
    "print(max_corr_index)\n",
    "print(max_corr)"
   ]
  },
  {
   "cell_type": "code",
   "execution_count": 26,
   "id": "d8c5e502",
   "metadata": {},
   "outputs": [
    {
     "name": "stdout",
     "output_type": "stream",
     "text": [
      "0.12\n"
     ]
    }
   ],
   "source": [
    "print(weights_arr[max_corr_index])"
   ]
  },
  {
   "cell_type": "code",
   "execution_count": 33,
   "id": "60496e26",
   "metadata": {},
   "outputs": [
    {
     "data": {
      "image/png": "[encoded data removed]",
      "text/plain": [
       "<Figure size 640x480 with 1 Axes>"
      ]
     },
     "metadata": {},
     "output_type": "display_data"
    }
   ],
   "source": [
    "plt.plot(corr_graphs[200], linewidth=0.8)\n",
    "#plt.savefig('max_corr_graph_w200.svg', format='svg')\n",
    "plt.show()\n"
   ]
  },
  {
   "cell_type": "code",
   "execution_count": 28,
   "id": "8d05fa8c",
   "metadata": {},
   "outputs": [],
   "source": [
    "np_corr_graphs = np.array(corr_graphs)\n",
    "np_r_abs_all_time_samples = np.array(r_abs_all_time_samples)"
   ]
  },
  {
   "cell_type": "code",
   "execution_count": 29,
   "id": "a253125b",
   "metadata": {},
   "outputs": [],
   "source": [
    "np.save('np_corr_graphs_1000i_401w_4000ts.npy', np_corr_graphs)\n",
    "np.save('np_r_abs_all_time_samples_1000i_401w_4000ts.npy', np_r_abs_all_time_samples)"
   ]
  },
  {
   "cell_type": "code",
   "execution_count": 42,
   "id": "f842e673",
   "metadata": {},
   "outputs": [
    {
     "data": {
      "image/png": "[encoded data removed]",
      "text/plain": [
       "<Figure size 640x480 with 1 Axes>"
      ]
     },
     "metadata": {},
     "output_type": "display_data"
    }
   ],
   "source": [
    "for i in range(len(weights_arr)):\n",
    "    if weights_arr[i] != 0.0:\n",
    "        plt.plot(corr_graphs[i], linewidth=0.8, color='black')\n",
    "plt.plot(corr_graphs[max_corr_index], linewidth=0.8, color='red')\n",
    "plt.xlabel('time samples')\n",
    "plt.ylabel('abs(correlation coefficients)')\n",
    "plt.title('Correlation coefficient graphs for all hypothetical weight values')\n",
    "#plt.savefig('max_corr_graphs_w0excluded.svg', format='svg')\n",
    "plt.show()"
   ]
  },
  {
   "cell_type": "code",
   "execution_count": null,
   "id": "1318b32a",
   "metadata": {},
   "outputs": [],
   "source": []
  }
 ],
 "metadata": {
  "kernelspec": {
   "display_name": "Python 3 (ipykernel)",
   "language": "python",
   "name": "python3"
  },
  "language_info": {
   "codemirror_mode": {
    "name": "ipython",
    "version": 3
   },
   "file_extension": ".py",
   "mimetype": "text/x-python",
   "name": "python",
   "nbconvert_exporter": "python",
   "pygments_lexer": "ipython3",
   "version": "3.10.8"
  }
 },
 "nbformat": 4,
 "nbformat_minor": 5
}
